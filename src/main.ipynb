{
 "cells": [
  {
   "cell_type": "code",
   "execution_count": 1,
   "outputs": [],
   "source": [
    "%reload_ext autoreload"
   ],
   "metadata": {
    "collapsed": false
   }
  },
  {
   "cell_type": "code",
   "execution_count": 2,
   "outputs": [],
   "source": [
    "%autoreload 2"
   ],
   "metadata": {
    "collapsed": false
   }
  },
  {
   "cell_type": "code",
   "execution_count": 3,
   "metadata": {},
   "outputs": [],
   "source": [
    "import re\n",
    "import time\n",
    "\n",
    "import pandas as pd\n",
    "import numpy as np\n",
    "import nltk\n",
    "import warnings\n",
    "import pickle\n",
    "warnings.filterwarnings(\"ignore\", category=DeprecationWarning)\n",
    "warnings.filterwarnings(\"ignore\", category=FutureWarning)\n",
    "from sklearn.model_selection import train_test_split"
   ]
  },
  {
   "cell_type": "code",
   "execution_count": 4,
   "metadata": {},
   "outputs": [],
   "source": [
    "from analyzer import data_cleaner\n",
    "from analyzer.analyzer import TfidfDataTransformer"
   ]
  },
  {
   "cell_type": "code",
   "execution_count": 3,
   "metadata": {},
   "outputs": [],
   "source": [
    "df_train = pd.read_csv('data/train.csv')\n",
    "df_t = df_train.copy()"
   ]
  },
  {
   "cell_type": "code",
   "execution_count": 4,
   "metadata": {},
   "outputs": [
    {
     "data": {
      "text/plain": "   id  label                                              tweet\n0   1      0   @user when a father is dysfunctional and is s...\n1   2      0  @user @user thanks for #lyft credit i can't us...\n2   3      0                                bihday your majesty\n3   4      0  #model   i love u take with u all the time in ...\n4   5      0             factsguide: society now    #motivation",
      "text/html": "<div>\n<style scoped>\n    .dataframe tbody tr th:only-of-type {\n        vertical-align: middle;\n    }\n\n    .dataframe tbody tr th {\n        vertical-align: top;\n    }\n\n    .dataframe thead th {\n        text-align: right;\n    }\n</style>\n<table border=\"1\" class=\"dataframe\">\n  <thead>\n    <tr style=\"text-align: right;\">\n      <th></th>\n      <th>id</th>\n      <th>label</th>\n      <th>tweet</th>\n    </tr>\n  </thead>\n  <tbody>\n    <tr>\n      <th>0</th>\n      <td>1</td>\n      <td>0</td>\n      <td>@user when a father is dysfunctional and is s...</td>\n    </tr>\n    <tr>\n      <th>1</th>\n      <td>2</td>\n      <td>0</td>\n      <td>@user @user thanks for #lyft credit i can't us...</td>\n    </tr>\n    <tr>\n      <th>2</th>\n      <td>3</td>\n      <td>0</td>\n      <td>bihday your majesty</td>\n    </tr>\n    <tr>\n      <th>3</th>\n      <td>4</td>\n      <td>0</td>\n      <td>#model   i love u take with u all the time in ...</td>\n    </tr>\n    <tr>\n      <th>4</th>\n      <td>5</td>\n      <td>0</td>\n      <td>factsguide: society now    #motivation</td>\n    </tr>\n  </tbody>\n</table>\n</div>"
     },
     "execution_count": 4,
     "metadata": {},
     "output_type": "execute_result"
    }
   ],
   "source": [
    "df_train.head()"
   ]
  },
  {
   "cell_type": "code",
   "execution_count": 5,
   "metadata": {},
   "outputs": [
    {
     "data": {
      "text/plain": "   id  label                                              tweet  \\\n0   1      0   @user when a father is dysfunctional and is s...   \n1   2      0  @user @user thanks for #lyft credit i can't us...   \n2   3      0                                bihday your majesty   \n3   4      0  #model   i love u take with u all the time in ...   \n4   5      0             factsguide: society now    #motivation   \n\n                                         clean_tweet  \n0  when father dysfunctional and selfish drags hi...  \n1  thanks for #lyft credit can use cause they don...  \n2                                bihday your majesty  \n3                 #model love take with all the time  \n4                 factsguide society now #motivation  ",
      "text/html": "<div>\n<style scoped>\n    .dataframe tbody tr th:only-of-type {\n        vertical-align: middle;\n    }\n\n    .dataframe tbody tr th {\n        vertical-align: top;\n    }\n\n    .dataframe thead th {\n        text-align: right;\n    }\n</style>\n<table border=\"1\" class=\"dataframe\">\n  <thead>\n    <tr style=\"text-align: right;\">\n      <th></th>\n      <th>id</th>\n      <th>label</th>\n      <th>tweet</th>\n      <th>clean_tweet</th>\n    </tr>\n  </thead>\n  <tbody>\n    <tr>\n      <th>0</th>\n      <td>1</td>\n      <td>0</td>\n      <td>@user when a father is dysfunctional and is s...</td>\n      <td>when father dysfunctional and selfish drags hi...</td>\n    </tr>\n    <tr>\n      <th>1</th>\n      <td>2</td>\n      <td>0</td>\n      <td>@user @user thanks for #lyft credit i can't us...</td>\n      <td>thanks for #lyft credit can use cause they don...</td>\n    </tr>\n    <tr>\n      <th>2</th>\n      <td>3</td>\n      <td>0</td>\n      <td>bihday your majesty</td>\n      <td>bihday your majesty</td>\n    </tr>\n    <tr>\n      <th>3</th>\n      <td>4</td>\n      <td>0</td>\n      <td>#model   i love u take with u all the time in ...</td>\n      <td>#model love take with all the time</td>\n    </tr>\n    <tr>\n      <th>4</th>\n      <td>5</td>\n      <td>0</td>\n      <td>factsguide: society now    #motivation</td>\n      <td>factsguide society now #motivation</td>\n    </tr>\n  </tbody>\n</table>\n</div>"
     },
     "execution_count": 5,
     "metadata": {},
     "output_type": "execute_result"
    }
   ],
   "source": [
    "df_train['clean_tweet'] = np.vectorize(data_cleaner.clean_mentions)(df_train['tweet'])\n",
    "df_train['clean_tweet'] = df_train['clean_tweet'].str.replace(\"[^a-zA-Z#]\", \" \")\n",
    "df_train['clean_tweet'] = df_train['clean_tweet'].apply(lambda x: ' '.join([w for w in x.split() if len(w)>2]))\n",
    "\n",
    "\n",
    "df_train.head()"
   ]
  },
  {
   "cell_type": "code",
   "execution_count": 6,
   "metadata": {},
   "outputs": [
    {
     "data": {
      "text/plain": "   id  label                                              tweet  \\\n0   1      0   @user when a father is dysfunctional and is s...   \n1   2      0  @user @user thanks for #lyft credit i can't us...   \n2   3      0                                bihday your majesty   \n3   4      0  #model   i love u take with u all the time in ...   \n4   5      0             factsguide: society now    #motivation   \n\n                                         clean_tweet  \n0  when father dysfunct and selfish drag hi kid i...  \n1  thank for #lyft credit can use caus they don o...  \n2                                bihday your majesti  \n3                 #model love take with all the time  \n4                       factsguid societi now #motiv  ",
      "text/html": "<div>\n<style scoped>\n    .dataframe tbody tr th:only-of-type {\n        vertical-align: middle;\n    }\n\n    .dataframe tbody tr th {\n        vertical-align: top;\n    }\n\n    .dataframe thead th {\n        text-align: right;\n    }\n</style>\n<table border=\"1\" class=\"dataframe\">\n  <thead>\n    <tr style=\"text-align: right;\">\n      <th></th>\n      <th>id</th>\n      <th>label</th>\n      <th>tweet</th>\n      <th>clean_tweet</th>\n    </tr>\n  </thead>\n  <tbody>\n    <tr>\n      <th>0</th>\n      <td>1</td>\n      <td>0</td>\n      <td>@user when a father is dysfunctional and is s...</td>\n      <td>when father dysfunct and selfish drag hi kid i...</td>\n    </tr>\n    <tr>\n      <th>1</th>\n      <td>2</td>\n      <td>0</td>\n      <td>@user @user thanks for #lyft credit i can't us...</td>\n      <td>thank for #lyft credit can use caus they don o...</td>\n    </tr>\n    <tr>\n      <th>2</th>\n      <td>3</td>\n      <td>0</td>\n      <td>bihday your majesty</td>\n      <td>bihday your majesti</td>\n    </tr>\n    <tr>\n      <th>3</th>\n      <td>4</td>\n      <td>0</td>\n      <td>#model   i love u take with u all the time in ...</td>\n      <td>#model love take with all the time</td>\n    </tr>\n    <tr>\n      <th>4</th>\n      <td>5</td>\n      <td>0</td>\n      <td>factsguide: society now    #motivation</td>\n      <td>factsguid societi now #motiv</td>\n    </tr>\n  </tbody>\n</table>\n</div>"
     },
     "metadata": {},
     "output_type": "display_data"
    }
   ],
   "source": [
    "\n",
    "\n",
    "tr= TfidfDataTransformer()\n",
    "\n",
    "df_train['clean_tweet'] = tr.stemming(df_train['clean_tweet'])\n",
    "display(df_train.head())\n",
    "#df_train['clean_tweet'].to_csv('models/model_data.csv', sep=',')\n",
    "tr.vectorizer_fit(df_train['clean_tweet'])\n",
    "df_tfidf = tr.transform(df_train['clean_tweet'])\n",
    "pickle.dump(tr.vectorizer, open('models/vectorizer.sav', 'wb'))\n",
    "x_train, x_valid, y_train, y_valid = train_test_split(df_tfidf, df_train['label'],test_size=0.3,random_state=42)"
   ]
  },
  {
   "attachments": {},
   "cell_type": "markdown",
   "metadata": {},
   "source": [
    "# Models and balancing"
   ]
  },
  {
   "cell_type": "code",
   "execution_count": null,
   "metadata": {},
   "outputs": [],
   "source": [
    "from sklearn.linear_model import LogisticRegression\n",
    "from sklearn.metrics import f1_score\n",
    "\n",
    "\n",
    "\n",
    "\n",
    "model = LogisticRegression(random_state=0,solver='lbfgs')\n",
    "model.fit(x_train, y_train)"
   ]
  },
  {
   "cell_type": "code",
   "execution_count": null,
   "metadata": {},
   "outputs": [],
   "source": [
    "predictions = model.predict_proba(x_valid)\n",
    "predictions"
   ]
  },
  {
   "cell_type": "code",
   "execution_count": null,
   "metadata": {},
   "outputs": [],
   "source": [
    "prediction_int = predictions[:,1]>=0.3\n",
    "prediction_int = prediction_int.astype(np.int)\n",
    "log_tfidf = f1_score(y_valid, prediction_int)\n",
    "\n",
    "log_tfidf"
   ]
  },
  {
   "cell_type": "code",
   "execution_count": null,
   "metadata": {},
   "outputs": [],
   "source": [
    "pickle.dump(model, open('../models/model.sav', 'wb'))\n",
    " "
   ]
  },
  {
   "cell_type": "code",
   "execution_count": null,
   "metadata": {},
   "outputs": [],
   "source": [
    "test_data = tr.transform(['This thing is pretty shit', 'I like this pretty much, it is super', 'ugly bad ugly'])\n",
    "model.predict_proba(test_data)\n"
   ]
  },
  {
   "cell_type": "code",
   "execution_count": null,
   "outputs": [],
   "source": [
    "from imblearn.under_sampling import TomekLinks,RandomUnderSampler, CondensedNearestNeighbour,EditedNearestNeighbours\n",
    "#balancing\n",
    "\n",
    "tl = RandomUnderSampler(sampling_strategy='not minority',random_state=1337) # default - will remove the sample from the majority class\n",
    "#tl = TomekLinks(sampling_strategy='not minority',n_jobs = -1)\n",
    "x_train_res, y_train_res = tl.fit_resample(x_train, y_train)\n",
    "model2 = LogisticRegression(random_state=1337,solver='lbfgs')\n",
    "\n",
    "model2.fit(x_train_res, y_train_res)\n"
   ],
   "metadata": {
    "collapsed": false
   }
  },
  {
   "cell_type": "code",
   "execution_count": null,
   "outputs": [],
   "source": [],
   "metadata": {
    "collapsed": false
   }
  },
  {
   "cell_type": "code",
   "execution_count": null,
   "outputs": [],
   "source": [
    "pickle.dump(model, open('../models/model2.sav', 'wb'))"
   ],
   "metadata": {
    "collapsed": false
   }
  },
  {
   "cell_type": "code",
   "execution_count": null,
   "outputs": [],
   "source": [
    "predictions = model2.predict_proba(x_valid)\n",
    "prediction_int = predictions[:,1]>=0.3\n",
    "prediction_int = prediction_int.astype(np.int32)\n",
    "log_tfidf = f1_score(y_valid, prediction_int)\n"
   ],
   "metadata": {
    "collapsed": false
   }
  },
  {
   "cell_type": "code",
   "execution_count": null,
   "outputs": [],
   "source": [
    "test_data = tr.transform([\"it's unbelievable that in the 21st century we'd need something like this. again. #neverump  #xenophobia \", 'This thing is pretty shit', 'I like this pretty much, it is super', 'ugly bad ugly'])\n",
    "model2.predict_proba(test_data)"
   ],
   "metadata": {
    "collapsed": false
   }
  },
  {
   "cell_type": "code",
   "execution_count": null,
   "outputs": [],
   "source": [
    "def analyze_data(model, data_path, data_transformer, data_balancer=None, save_model=True, save_vectorizer=True, verbose=True):\n",
    "    data_name = data_path.split('/')[-1]\n",
    "    name = f\"{data_name}-{model.__repr__()}\"\n",
    "    if data_balancer is not None:\n",
    "        name += '-balanced'\n",
    "    if verbose:\n",
    "        print(f'Analyzing {name}', end='')\n",
    "    # Load data\n",
    "    df_train = pd.read_csv(data_path)\n",
    "    # Clean data\n",
    "    df_train['clean_tweet'] = np.vectorize(data_cleaner.clean_mentions)(df_train['tweet'])\n",
    "    df_train['clean_tweet'] = df_train['clean_tweet'].str.replace(\"[^a-zA-Z#]\", \" \")\n",
    "    df_train['clean_tweet'] = df_train['clean_tweet'].apply(lambda x: ' '.join([w for w in x.split() if len(w)>2]))\n",
    "    # Transform data\n",
    "    df_train['clean_tweet'] = data_transformer.stemming(df_train['clean_tweet'])\n",
    "    data_transformer.vectorizer_fit(df_train['clean_tweet'])\n",
    "    df_tfidf = data_transformer.transform(df_train['clean_tweet'])\n",
    "    if save_vectorizer:\n",
    "        pickle.dump(data_transformer.vectorizer, open(f'../models/{data_name}-{data_transformer.vectorizer.__repr__()}.sav', 'wb'))\n",
    "    x_train, x_valid, y_train, y_valid = train_test_split(df_tfidf, df_train['label'],test_size=0.3,random_state=1337)\n",
    "    # Balance data\n",
    "    if data_balancer is not None:\n",
    "        x_train, y_train = data_balancer.fit_resample(x_train, y_train)\n",
    "    # Fit model (HYPERPARAMS???)\n",
    "    model.fit(x_train, y_train)\n",
    "    if save_model:\n",
    "        pickle.dump(model, open(f'../models/{name}.sav', 'wb'))\n",
    "    # Predict\n",
    "    if isinstance(model, (LogisticRegression, GaussianNB)):\n",
    "        predictions = model.predict_proba(x_valid)\n",
    "        prediction_int = predictions[:,1]>=0.3\n",
    "        prediction_int = prediction_int.astype(np.int32)\n",
    "    else:\n",
    "        predictions = model.predict(x_valid)\n",
    "        prediction_int = predictions[:]>=0.3\n",
    "        prediction_int = prediction_int.astype(np.int32)\n",
    "    # Evaluate\n",
    "    metrics = {\n",
    "        'f1_score': f1_score(y_valid, prediction_int)\n",
    "    }\n",
    "    #\n",
    "    if verbose:\n",
    "        print(f' ->> Done')\n",
    "    return name, model, data_transformer ,predictions, metrics"
   ],
   "metadata": {
    "collapsed": false
   }
  },
  {
   "cell_type": "code",
   "execution_count": null,
   "outputs": [],
   "source": [
    "from sklearn.linear_model import LogisticRegression\n",
    "from data_transformation import TfidfDataTransformer\n",
    "from sklearn.model_selection import train_test_split\n",
    "from imblearn.under_sampling import TomekLinks,RandomUnderSampler\n",
    "\n",
    "\n",
    "name, model, tr, pred, metrics = analyze_data(model=LogisticRegression(random_state=0,solver='lbfgs'), data_path='data/train.csv', data_transformer=TfidfDataTransformer(), data_balancer=RandomUnderSampler(sampling_strategy='not minority',random_state=1337))\n",
    "\n",
    "\n"
   ],
   "metadata": {
    "collapsed": false
   }
  },
  {
   "cell_type": "code",
   "execution_count": null,
   "outputs": [],
   "source": [
    "from sklearn.naive_bayes import GaussianNB\n",
    "from sklearn.tree import DecisionTreeRegressor\n",
    "test_data = tr.transform([\"it's unbelievable that in the 21st century we'd need something like this. again. #neverump  #xenophobia \", 'This thing is pretty shit', 'life', 'ugly bad ugly'])\n",
    "\n",
    "for m in [LogisticRegression(random_state=0,solver='lbfgs'), GaussianNB(), DecisionTreeRegressor()]:\n",
    "    name, model, tr, pred, metrics = analyze_data(model=m, data_path='data/train.csv', data_transformer=TfidfDataTransformer(), data_balancer=RandomUnderSampler(sampling_strategy='not minority',random_state=1337))\n",
    "    print(name)\n",
    "    print(model.predict_proba(test_data))\n",
    "    print(f'f1: {metrics[\"f1_score\"]}')"
   ],
   "metadata": {
    "collapsed": false
   }
  },
  {
   "cell_type": "code",
   "execution_count": null,
   "outputs": [],
   "source": [
    "# Testing\n",
    "name, model, tr, pred, metrics = analyze_data(model=DecisionTreeRegressor(), data_path='data/train.csv', data_transformer=TfidfDataTransformer(), data_balancer=RandomUnderSampler(sampling_strategy='not minority',random_state=1337))\n",
    "print(name)\n",
    "print(model.predict(test_data))\n",
    "print(f'f1: {metrics[\"f1_score\"]}')"
   ],
   "metadata": {
    "collapsed": false
   }
  },
  {
   "cell_type": "markdown",
   "source": [
    "# Testing\n"
   ],
   "metadata": {
    "collapsed": false
   }
  },
  {
   "cell_type": "code",
   "execution_count": 38,
   "outputs": [],
   "source": [
    "def emoji_from_score(score):\n",
    "    return '😀' if score > 0.85 else '😐' if score > 0.75 else '☹'\n",
    "\n",
    "def index_dates(data, dates):\n",
    "    date_time = pd.to_datetime(dates)\n",
    "    df = pd.DataFrame()\n",
    "    df['value'] = data\n",
    "    df = df.set_index(date_time)\n",
    "    return df\n",
    "\n",
    "def plot_function(data, plot_path=None, x_label='Date', y_label='Sentiment value', data2=pd.Series([-1,0,1]), data3=pd.Series([-1,0,1])):\n",
    "\n",
    "    fig, (ax1, ax2, ax3) = plt.subplots(1, 3, figsize=(8, 2), width_ratios=[3, 1, 1], sharey=True)\n",
    "    fig.suptitle('Sentiment analysis', fontsize=14, y=1.1)\n",
    "\n",
    "    # Plot sentiment values\n",
    "    data.plot(ax=ax1)\n",
    "    plt.gcf().autofmt_xdate()\n",
    "    ax1.set_xlabel(x_label)\n",
    "    ax1.set_ylabel(y_label)\n",
    "    ax1.set_title(\"Historical data\")\n",
    "\n",
    "    # Plot trend TODO\n",
    "    data2.plot(ax=ax2)\n",
    "\n",
    "    ax2.set_xlabel(\"Date\")\n",
    "    ax2.set_ylabel(\"Trend\")\n",
    "    ax2.set_title(\"Current trend\")\n",
    "\n",
    "    # Plot prediction?\n",
    "    data3.plot(ax=ax3)\n",
    "\n",
    "    ax3.set_xlabel(\"Date\")\n",
    "    ax3.set_ylabel(\"Prediction\")\n",
    "    ax3.set_title(\"Prediction\")\n",
    "    ax3.text(4, 0, ''.join(data[\"value\"].apply(lambda x: emoji_from_score(x))), fontsize=20)\n",
    "\n",
    "    if plot_path is not None:\n",
    "        plt.savefig(plot_path)\n",
    "    plt.show()\n"
   ],
   "metadata": {
    "collapsed": false
   }
  },
  {
   "cell_type": "code",
   "execution_count": 39,
   "outputs": [
    {
     "data": {
      "text/plain": "<Figure size 800x200 with 3 Axes>",
      "image/png": "[encoded data removed]"
     },
     "metadata": {},
     "output_type": "display_data"
    }
   ],
   "source": [
    "from analyzer.analyzer import Analyzer\n",
    "import matplotlib.pyplot as plt\n",
    "\n",
    "\n",
    "test_data = [\"it's unbelievable that in the 21st century we'd need something like this. again. #neverump  #xenophobia \", 'This thing is pretty shit', 'life', 'ugly bad ugly']\n",
    "\n",
    "date_time = [\"2021-01-01\", \"2021-01-02\", \"2021-01-03\", \"2021-01-04\"]\n",
    "\n",
    "analyzer = Analyzer('models', 'model.sav', 'vectorizer.sav')\n",
    "results = analyzer.get_sentiment_analysis(test_data)\n",
    "results = pd.Series(results).apply(lambda x: (2*x)-1)\n",
    "results = index_dates(results,date_time)\n",
    "plot_function(results, plot_path='out/graphs/foo.png')\n"
   ],
   "metadata": {
    "collapsed": false
   }
  },
  {
   "cell_type": "code",
   "execution_count": 58,
   "outputs": [],
   "source": [
    "\n"
   ],
   "metadata": {
    "collapsed": false
   }
  },
  {
   "cell_type": "code",
   "execution_count": 5,
   "outputs": [],
   "source": [
    "from datetime import datetime\n",
    "from collections import namedtuple\n",
    "\n",
    "\n",
    "\n",
    "def parse_args(text:str):\n",
    "    date_range = namedtuple(\"DateRange\", [\"date_from\", \"date_to\"])\n",
    "    try:\n",
    "        split = text.split(' ')\n",
    "        if len(split) == 0:\n",
    "            return date_range(None, None)\n",
    "        if len(split) == 1:\n",
    "            datetime_from = datetime.strptime(split[0], '%d/%m/%Y')\n",
    "            return date_range(datetime_from, datetime.today())\n",
    "        else:\n",
    "            datetime_from = datetime.strptime(split[0], '%d/%m/%Y')\n",
    "            datetime_to = datetime.strptime(split[1], '%d/%m/%Y')\n",
    "            delta = datetime_to - datetime_from\n",
    "            if delta.days < 0:\n",
    "                return date_range(datetime_to, datetime_from)\n",
    "            return date_range(datetime_from, datetime_to)\n",
    "    except Exception:\n",
    "        print('Bad format of args.')\n",
    "        return date_range(None, None)\n"
   ],
   "metadata": {
    "collapsed": false
   }
  },
  {
   "cell_type": "code",
   "execution_count": 13,
   "outputs": [
    {
     "name": "stdout",
     "output_type": "stream",
     "text": [
      "DateRange(date_from=datetime.datetime(2021, 12, 25, 0, 0), date_to=datetime.datetime(2023, 3, 12, 11, 39, 45, 521104))\n",
      "Bad format of args.\n",
      "DateRange(date_from=None, date_to=None)\n",
      "DateRange(date_from=datetime.datetime(2021, 12, 27, 0, 0), date_to=datetime.datetime(2021, 12, 28, 0, 0))\n",
      "Bad format of args.\n",
      "None None\n"
     ]
    }
   ],
   "source": [
    "print(parse_args('25/12/2021'))\n",
    "print(parse_args('asddas'))\n",
    "print(parse_args('28/12/2021 27/12/2021'))\n",
    "x1, x2 = parse_args('asd')\n",
    "print(x1, x2)"
   ],
   "metadata": {
    "collapsed": false
   }
  },
  {
   "cell_type": "code",
   "execution_count": 11,
   "outputs": [
    {
     "name": "stdout",
     "output_type": "stream",
     "text": [
      "2017-12-01 00:52:30\n"
     ]
    }
   ],
   "source": [
    "stamp = int('1512085950')\n",
    "date = datetime.fromtimestamp(stamp)\n",
    "\n",
    "print(date)"
   ],
   "metadata": {
    "collapsed": false
   }
  },
  {
   "cell_type": "code",
   "execution_count": 16,
   "outputs": [
    {
     "data": {
      "text/plain": "True"
     },
     "execution_count": 16,
     "metadata": {},
     "output_type": "execute_result"
    }
   ],
   "source": [
    "x1 is None or x2 is None"
   ],
   "metadata": {
    "collapsed": false
   }
  },
  {
   "cell_type": "code",
   "execution_count": null,
   "outputs": [],
   "source": [],
   "metadata": {
    "collapsed": false
   }
  }
 ],
 "metadata": {
  "kernelspec": {
   "display_name": "venv",
   "language": "python",
   "name": "python3"
  },
  "language_info": {
   "codemirror_mode": {
    "name": "ipython",
    "version": 3
   },
   "file_extension": ".py",
   "mimetype": "text/x-python",
   "name": "python",
   "nbconvert_exporter": "python",
   "pygments_lexer": "ipython3",
   "version": "3.10.7"
  },
  "orig_nbformat": 4,
  "vscode": {
   "interpreter": {
    "hash": "c011ed6bf922ee54bc201eceecf54cf8e6293d9ca800dfe0b9a9fb97a052d906"
   }
  }
 },
 "nbformat": 4,
 "nbformat_minor": 2
}
