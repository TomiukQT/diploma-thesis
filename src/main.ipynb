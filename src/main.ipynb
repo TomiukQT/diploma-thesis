{
 "cells": [
  {
   "cell_type": "code",
   "execution_count": 1,
   "outputs": [],
   "source": [
    "%reload_ext autoreload"
   ],
   "metadata": {
    "collapsed": false
   }
  },
  {
   "cell_type": "code",
   "execution_count": 2,
   "outputs": [],
   "source": [
    "%autoreload 2"
   ],
   "metadata": {
    "collapsed": false
   }
  },
  {
   "cell_type": "code",
   "execution_count": 3,
   "metadata": {},
   "outputs": [],
   "source": [
    "import re\n",
    "import time\n",
    "\n",
    "import pandas as pd\n",
    "import numpy as np\n",
    "import nltk\n",
    "import warnings\n",
    "import pickle\n",
    "warnings.filterwarnings(\"ignore\", category=DeprecationWarning)\n",
    "warnings.filterwarnings(\"ignore\", category=FutureWarning)\n",
    "from sklearn.model_selection import train_test_split"
   ]
  },
  {
   "cell_type": "code",
   "execution_count": 4,
   "metadata": {},
   "outputs": [],
   "source": [
    "from analyzer import data_cleaner\n",
    "from analyzer.analyzer import TfidfDataTransformer"
   ]
  },
  {
   "cell_type": "code",
   "execution_count": 3,
   "metadata": {},
   "outputs": [],
   "source": [
    "df_train = pd.read_csv('data/train.csv')\n",
    "df_t = df_train.copy()"
   ]
  },
  {
   "cell_type": "code",
   "execution_count": 4,
   "metadata": {},
   "outputs": [
    {
     "data": {
      "text/plain": "   id  label                                              tweet\n0   1      0   @user when a father is dysfunctional and is s...\n1   2      0  @user @user thanks for #lyft credit i can't us...\n2   3      0                                bihday your majesty\n3   4      0  #model   i love u take with u all the time in ...\n4   5      0             factsguide: society now    #motivation",
      "text/html": "<div>\n<style scoped>\n    .dataframe tbody tr th:only-of-type {\n        vertical-align: middle;\n    }\n\n    .dataframe tbody tr th {\n        vertical-align: top;\n    }\n\n    .dataframe thead th {\n        text-align: right;\n    }\n</style>\n<table border=\"1\" class=\"dataframe\">\n  <thead>\n    <tr style=\"text-align: right;\">\n      <th></th>\n      <th>id</th>\n      <th>label</th>\n      <th>tweet</th>\n    </tr>\n  </thead>\n  <tbody>\n    <tr>\n      <th>0</th>\n      <td>1</td>\n      <td>0</td>\n      <td>@user when a father is dysfunctional and is s...</td>\n    </tr>\n    <tr>\n      <th>1</th>\n      <td>2</td>\n      <td>0</td>\n      <td>@user @user thanks for #lyft credit i can't us...</td>\n    </tr>\n    <tr>\n      <th>2</th>\n      <td>3</td>\n      <td>0</td>\n      <td>bihday your majesty</td>\n    </tr>\n    <tr>\n      <th>3</th>\n      <td>4</td>\n      <td>0</td>\n      <td>#model   i love u take with u all the time in ...</td>\n    </tr>\n    <tr>\n      <th>4</th>\n      <td>5</td>\n      <td>0</td>\n      <td>factsguide: society now    #motivation</td>\n    </tr>\n  </tbody>\n</table>\n</div>"
     },
     "execution_count": 4,
     "metadata": {},
     "output_type": "execute_result"
    }
   ],
   "source": [
    "df_train.head()"
   ]
  },
  {
   "cell_type": "code",
   "execution_count": 5,
   "metadata": {},
   "outputs": [
    {
     "data": {
      "text/plain": "   id  label                                              tweet  \\\n0   1      0   @user when a father is dysfunctional and is s...   \n1   2      0  @user @user thanks for #lyft credit i can't us...   \n2   3      0                                bihday your majesty   \n3   4      0  #model   i love u take with u all the time in ...   \n4   5      0             factsguide: society now    #motivation   \n\n                                         clean_tweet  \n0  when father dysfunctional and selfish drags hi...  \n1  thanks for #lyft credit can use cause they don...  \n2                                bihday your majesty  \n3                 #model love take with all the time  \n4                 factsguide society now #motivation  ",
      "text/html": "<div>\n<style scoped>\n    .dataframe tbody tr th:only-of-type {\n        vertical-align: middle;\n    }\n\n    .dataframe tbody tr th {\n        vertical-align: top;\n    }\n\n    .dataframe thead th {\n        text-align: right;\n    }\n</style>\n<table border=\"1\" class=\"dataframe\">\n  <thead>\n    <tr style=\"text-align: right;\">\n      <th></th>\n      <th>id</th>\n      <th>label</th>\n      <th>tweet</th>\n      <th>clean_tweet</th>\n    </tr>\n  </thead>\n  <tbody>\n    <tr>\n      <th>0</th>\n      <td>1</td>\n      <td>0</td>\n      <td>@user when a father is dysfunctional and is s...</td>\n      <td>when father dysfunctional and selfish drags hi...</td>\n    </tr>\n    <tr>\n      <th>1</th>\n      <td>2</td>\n      <td>0</td>\n      <td>@user @user thanks for #lyft credit i can't us...</td>\n      <td>thanks for #lyft credit can use cause they don...</td>\n    </tr>\n    <tr>\n      <th>2</th>\n      <td>3</td>\n      <td>0</td>\n      <td>bihday your majesty</td>\n      <td>bihday your majesty</td>\n    </tr>\n    <tr>\n      <th>3</th>\n      <td>4</td>\n      <td>0</td>\n      <td>#model   i love u take with u all the time in ...</td>\n      <td>#model love take with all the time</td>\n    </tr>\n    <tr>\n      <th>4</th>\n      <td>5</td>\n      <td>0</td>\n      <td>factsguide: society now    #motivation</td>\n      <td>factsguide society now #motivation</td>\n    </tr>\n  </tbody>\n</table>\n</div>"
     },
     "execution_count": 5,
     "metadata": {},
     "output_type": "execute_result"
    }
   ],
   "source": [
    "df_train['clean_tweet'] = np.vectorize(data_cleaner.clean_mentions)(df_train['tweet'])\n",
    "df_train['clean_tweet'] = df_train['clean_tweet'].str.replace(\"[^a-zA-Z#]\", \" \")\n",
    "df_train['clean_tweet'] = df_train['clean_tweet'].apply(lambda x: ' '.join([w for w in x.split() if len(w)>2]))\n",
    "\n",
    "\n",
    "df_train.head()"
   ]
  },
  {
   "cell_type": "code",
   "execution_count": 6,
   "metadata": {},
   "outputs": [
    {
     "data": {
      "text/plain": "   id  label                                              tweet  \\\n0   1      0   @user when a father is dysfunctional and is s...   \n1   2      0  @user @user thanks for #lyft credit i can't us...   \n2   3      0                                bihday your majesty   \n3   4      0  #model   i love u take with u all the time in ...   \n4   5      0             factsguide: society now    #motivation   \n\n                                         clean_tweet  \n0  when father dysfunct and selfish drag hi kid i...  \n1  thank for #lyft credit can use caus they don o...  \n2                                bihday your majesti  \n3                 #model love take with all the time  \n4                       factsguid societi now #motiv  ",
      "text/html": "<div>\n<style scoped>\n    .dataframe tbody tr th:only-of-type {\n        vertical-align: middle;\n    }\n\n    .dataframe tbody tr th {\n        vertical-align: top;\n    }\n\n    .dataframe thead th {\n        text-align: right;\n    }\n</style>\n<table border=\"1\" class=\"dataframe\">\n  <thead>\n    <tr style=\"text-align: right;\">\n      <th></th>\n      <th>id</th>\n      <th>label</th>\n      <th>tweet</th>\n      <th>clean_tweet</th>\n    </tr>\n  </thead>\n  <tbody>\n    <tr>\n      <th>0</th>\n      <td>1</td>\n      <td>0</td>\n      <td>@user when a father is dysfunctional and is s...</td>\n      <td>when father dysfunct and selfish drag hi kid i...</td>\n    </tr>\n    <tr>\n      <th>1</th>\n      <td>2</td>\n      <td>0</td>\n      <td>@user @user thanks for #lyft credit i can't us...</td>\n      <td>thank for #lyft credit can use caus they don o...</td>\n    </tr>\n    <tr>\n      <th>2</th>\n      <td>3</td>\n      <td>0</td>\n      <td>bihday your majesty</td>\n      <td>bihday your majesti</td>\n    </tr>\n    <tr>\n      <th>3</th>\n      <td>4</td>\n      <td>0</td>\n      <td>#model   i love u take with u all the time in ...</td>\n      <td>#model love take with all the time</td>\n    </tr>\n    <tr>\n      <th>4</th>\n      <td>5</td>\n      <td>0</td>\n      <td>factsguide: society now    #motivation</td>\n      <td>factsguid societi now #motiv</td>\n    </tr>\n  </tbody>\n</table>\n</div>"
     },
     "metadata": {},
     "output_type": "display_data"
    }
   ],
   "source": [
    "\n",
    "\n",
    "tr= TfidfDataTransformer()\n",
    "\n",
    "df_train['clean_tweet'] = tr.stemming(df_train['clean_tweet'])\n",
    "display(df_train.head())\n",
    "#df_train['clean_tweet'].to_csv('models/model_data.csv', sep=',')\n",
    "tr.vectorizer_fit(df_train['clean_tweet'])\n",
    "df_tfidf = tr.transform(df_train['clean_tweet'])\n",
    "pickle.dump(tr.vectorizer, open('models/vectorizer.sav', 'wb'))\n",
    "x_train, x_valid, y_train, y_valid = train_test_split(df_tfidf, df_train['label'],test_size=0.3,random_state=42)"
   ]
  },
  {
   "attachments": {},
   "cell_type": "markdown",
   "metadata": {},
   "source": [
    "# Models and balancing"
   ]
  },
  {
   "cell_type": "code",
   "execution_count": null,
   "metadata": {},
   "outputs": [],
   "source": [
    "from sklearn.linear_model import LogisticRegression\n",
    "from sklearn.metrics import f1_score\n",
    "\n",
    "\n",
    "\n",
    "\n",
    "model = LogisticRegression(random_state=0,solver='lbfgs')\n",
    "model.fit(x_train, y_train)"
   ]
  },
  {
   "cell_type": "code",
   "execution_count": null,
   "metadata": {},
   "outputs": [],
   "source": [
    "predictions = model.predict_proba(x_valid)\n",
    "predictions"
   ]
  },
  {
   "cell_type": "code",
   "execution_count": null,
   "metadata": {},
   "outputs": [],
   "source": [
    "prediction_int = predictions[:,1]>=0.3\n",
    "prediction_int = prediction_int.astype(np.int)\n",
    "log_tfidf = f1_score(y_valid, prediction_int)\n",
    "\n",
    "log_tfidf"
   ]
  },
  {
   "cell_type": "code",
   "execution_count": null,
   "metadata": {},
   "outputs": [],
   "source": [
    "pickle.dump(model, open('../models/model.sav', 'wb'))\n",
    " "
   ]
  },
  {
   "cell_type": "code",
   "execution_count": null,
   "metadata": {},
   "outputs": [],
   "source": [
    "test_data = tr.transform(['This thing is pretty shit', 'I like this pretty much, it is super', 'ugly bad ugly'])\n",
    "model.predict_proba(test_data)\n"
   ]
  },
  {
   "cell_type": "code",
   "execution_count": null,
   "outputs": [],
   "source": [
    "from imblearn.under_sampling import TomekLinks,RandomUnderSampler, CondensedNearestNeighbour,EditedNearestNeighbours\n",
    "#balancing\n",
    "\n",
    "tl = RandomUnderSampler(sampling_strategy='not minority',random_state=1337) # default - will remove the sample from the majority class\n",
    "#tl = TomekLinks(sampling_strategy='not minority',n_jobs = -1)\n",
    "x_train_res, y_train_res = tl.fit_resample(x_train, y_train)\n",
    "model2 = LogisticRegression(random_state=1337,solver='lbfgs')\n",
    "\n",
    "model2.fit(x_train_res, y_train_res)\n"
   ],
   "metadata": {
    "collapsed": false
   }
  },
  {
   "cell_type": "code",
   "execution_count": null,
   "outputs": [],
   "source": [],
   "metadata": {
    "collapsed": false
   }
  },
  {
   "cell_type": "code",
   "execution_count": null,
   "outputs": [],
   "source": [
    "pickle.dump(model, open('../models/model2.sav', 'wb'))"
   ],
   "metadata": {
    "collapsed": false
   }
  },
  {
   "cell_type": "code",
   "execution_count": null,
   "outputs": [],
   "source": [
    "predictions = model2.predict_proba(x_valid)\n",
    "prediction_int = predictions[:,1]>=0.3\n",
    "prediction_int = prediction_int.astype(np.int32)\n",
    "log_tfidf = f1_score(y_valid, prediction_int)\n"
   ],
   "metadata": {
    "collapsed": false
   }
  },
  {
   "cell_type": "code",
   "execution_count": null,
   "outputs": [],
   "source": [
    "test_data = tr.transform([\"it's unbelievable that in the 21st century we'd need something like this. again. #neverump  #xenophobia \", 'This thing is pretty shit', 'I like this pretty much, it is super', 'ugly bad ugly'])\n",
    "model2.predict_proba(test_data)"
   ],
   "metadata": {
    "collapsed": false
   }
  },
  {
   "cell_type": "code",
   "execution_count": null,
   "outputs": [],
   "source": [
    "def analyze_data(model, data_path, data_transformer, data_balancer=None, save_model=True, save_vectorizer=True, verbose=True):\n",
    "    data_name = data_path.split('/')[-1]\n",
    "    name = f\"{data_name}-{model.__repr__()}\"\n",
    "    if data_balancer is not None:\n",
    "        name += '-balanced'\n",
    "    if verbose:\n",
    "        print(f'Analyzing {name}', end='')\n",
    "    # Load data\n",
    "    df_train = pd.read_csv(data_path)\n",
    "    # Clean data\n",
    "    df_train['clean_tweet'] = np.vectorize(data_cleaner.clean_mentions)(df_train['tweet'])\n",
    "    df_train['clean_tweet'] = df_train['clean_tweet'].str.replace(\"[^a-zA-Z#]\", \" \")\n",
    "    df_train['clean_tweet'] = df_train['clean_tweet'].apply(lambda x: ' '.join([w for w in x.split() if len(w)>2]))\n",
    "    # Transform data\n",
    "    df_train['clean_tweet'] = data_transformer.stemming(df_train['clean_tweet'])\n",
    "    data_transformer.vectorizer_fit(df_train['clean_tweet'])\n",
    "    df_tfidf = data_transformer.transform(df_train['clean_tweet'])\n",
    "    if save_vectorizer:\n",
    "        pickle.dump(data_transformer.vectorizer, open(f'../models/{data_name}-{data_transformer.vectorizer.__repr__()}.sav', 'wb'))\n",
    "    x_train, x_valid, y_train, y_valid = train_test_split(df_tfidf, df_train['label'],test_size=0.3,random_state=1337)\n",
    "    # Balance data\n",
    "    if data_balancer is not None:\n",
    "        x_train, y_train = data_balancer.fit_resample(x_train, y_train)\n",
    "    # Fit model (HYPERPARAMS???)\n",
    "    model.fit(x_train, y_train)\n",
    "    if save_model:\n",
    "        pickle.dump(model, open(f'../models/{name}.sav', 'wb'))\n",
    "    # Predict\n",
    "    if isinstance(model, (LogisticRegression, GaussianNB)):\n",
    "        predictions = model.predict_proba(x_valid)\n",
    "        prediction_int = predictions[:,1]>=0.3\n",
    "        prediction_int = prediction_int.astype(np.int32)\n",
    "    else:\n",
    "        predictions = model.predict(x_valid)\n",
    "        prediction_int = predictions[:]>=0.3\n",
    "        prediction_int = prediction_int.astype(np.int32)\n",
    "    # Evaluate\n",
    "    metrics = {\n",
    "        'f1_score': f1_score(y_valid, prediction_int)\n",
    "    }\n",
    "    #\n",
    "    if verbose:\n",
    "        print(f' ->> Done')\n",
    "    return name, model, data_transformer ,predictions, metrics"
   ],
   "metadata": {
    "collapsed": false
   }
  },
  {
   "cell_type": "code",
   "execution_count": null,
   "outputs": [],
   "source": [
    "from sklearn.linear_model import LogisticRegression\n",
    "from data_transformation import TfidfDataTransformer\n",
    "from sklearn.model_selection import train_test_split\n",
    "from imblearn.under_sampling import TomekLinks,RandomUnderSampler\n",
    "\n",
    "\n",
    "name, model, tr, pred, metrics = analyze_data(model=LogisticRegression(random_state=0,solver='lbfgs'), data_path='data/train.csv', data_transformer=TfidfDataTransformer(), data_balancer=RandomUnderSampler(sampling_strategy='not minority',random_state=1337))\n",
    "\n",
    "\n"
   ],
   "metadata": {
    "collapsed": false
   }
  },
  {
   "cell_type": "code",
   "execution_count": null,
   "outputs": [],
   "source": [
    "from sklearn.naive_bayes import GaussianNB\n",
    "from sklearn.tree import DecisionTreeRegressor\n",
    "test_data = tr.transform([\"it's unbelievable that in the 21st century we'd need something like this. again. #neverump  #xenophobia \", 'This thing is pretty shit', 'life', 'ugly bad ugly'])\n",
    "\n",
    "for m in [LogisticRegression(random_state=0,solver='lbfgs'), GaussianNB(), DecisionTreeRegressor()]:\n",
    "    name, model, tr, pred, metrics = analyze_data(model=m, data_path='data/train.csv', data_transformer=TfidfDataTransformer(), data_balancer=RandomUnderSampler(sampling_strategy='not minority',random_state=1337))\n",
    "    print(name)\n",
    "    print(model.predict_proba(test_data))\n",
    "    print(f'f1: {metrics[\"f1_score\"]}')"
   ],
   "metadata": {
    "collapsed": false
   }
  },
  {
   "cell_type": "code",
   "execution_count": null,
   "outputs": [],
   "source": [
    "# Testing\n",
    "name, model, tr, pred, metrics = analyze_data(model=DecisionTreeRegressor(), data_path='data/train.csv', data_transformer=TfidfDataTransformer(), data_balancer=RandomUnderSampler(sampling_strategy='not minority',random_state=1337))\n",
    "print(name)\n",
    "print(model.predict(test_data))\n",
    "print(f'f1: {metrics[\"f1_score\"]}')"
   ],
   "metadata": {
    "collapsed": false
   }
  },
  {
   "cell_type": "markdown",
   "source": [
    "# Testing\n"
   ],
   "metadata": {
    "collapsed": false
   }
  },
  {
   "cell_type": "code",
   "execution_count": 38,
   "outputs": [],
   "source": [
    "def emoji_from_score(score):\n",
    "    return '😀' if score > 0.85 else '😐' if score > 0.75 else '☹'\n",
    "\n",
    "def index_dates(data, dates):\n",
    "    date_time = pd.to_datetime(dates)\n",
    "    df = pd.DataFrame()\n",
    "    df['value'] = data\n",
    "    df = df.set_index(date_time)\n",
    "    return df\n",
    "\n",
    "\n"
   ],
   "metadata": {
    "collapsed": false
   }
  },
  {
   "cell_type": "code",
   "execution_count": 42,
   "outputs": [],
   "source": [
    "from analyzer.analyzer import Analyzer\n",
    "import matplotlib.pyplot as plt\n",
    "\n",
    "\n",
    "test_data = [\"it's unbelievable that in the 21st century we'd need something like this. again. #neverump  #xenophobia \", 'This thing is pretty shit', 'life', 'ugly bad ugly']\n",
    "\n",
    "date_time = [\"2021-01-01\", \"2021-01-02\", \"2021-01-03\", \"2021-01-04\"]\n",
    "\n",
    "analyzer = Analyzer('models', 'model.sav', 'vectorizer.sav')\n",
    "results = analyzer.get_sentiment_analysis(test_data)\n",
    "results = pd.Series(results).apply(lambda x: (2*x)-1)\n",
    "results = index_dates(results, date_time)\n",
    "\n"
   ],
   "metadata": {
    "collapsed": false
   }
  },
  {
   "cell_type": "code",
   "execution_count": 58,
   "outputs": [],
   "source": [
    "\n"
   ],
   "metadata": {
    "collapsed": false
   }
  },
  {
   "cell_type": "code",
   "execution_count": 5,
   "outputs": [],
   "source": [
    "from datetime import datetime\n",
    "from collections import namedtuple\n",
    "\n",
    "\n",
    "\n",
    "def parse_args(text:str):\n",
    "    date_range = namedtuple(\"DateRange\", [\"date_from\", \"date_to\"])\n",
    "    try:\n",
    "        split = text.split(' ')\n",
    "        if len(split) == 0:\n",
    "            return date_range(None, None)\n",
    "        if len(split) == 1:\n",
    "            datetime_from = datetime.strptime(split[0], '%d/%m/%Y')\n",
    "            return date_range(datetime_from, datetime.today())\n",
    "        else:\n",
    "            datetime_from = datetime.strptime(split[0], '%d/%m/%Y')\n",
    "            datetime_to = datetime.strptime(split[1], '%d/%m/%Y')\n",
    "            delta = datetime_to - datetime_from\n",
    "            if delta.days < 0:\n",
    "                return date_range(datetime_to, datetime_from)\n",
    "            return date_range(datetime_from, datetime_to)\n",
    "    except Exception:\n",
    "        print('Bad format of args.')\n",
    "        return date_range(None, None)\n"
   ],
   "metadata": {
    "collapsed": false
   }
  },
  {
   "cell_type": "code",
   "execution_count": 13,
   "outputs": [
    {
     "name": "stdout",
     "output_type": "stream",
     "text": [
      "DateRange(date_from=datetime.datetime(2021, 12, 25, 0, 0), date_to=datetime.datetime(2023, 3, 12, 11, 39, 45, 521104))\n",
      "Bad format of args.\n",
      "DateRange(date_from=None, date_to=None)\n",
      "DateRange(date_from=datetime.datetime(2021, 12, 27, 0, 0), date_to=datetime.datetime(2021, 12, 28, 0, 0))\n",
      "Bad format of args.\n",
      "None None\n"
     ]
    }
   ],
   "source": [
    "print(parse_args('25/12/2021'))\n",
    "print(parse_args('asddas'))\n",
    "print(parse_args('28/12/2021 27/12/2021'))\n",
    "x1, x2 = parse_args('asd')\n",
    "print(x1, x2)"
   ],
   "metadata": {
    "collapsed": false
   }
  },
  {
   "cell_type": "code",
   "execution_count": 11,
   "outputs": [
    {
     "name": "stdout",
     "output_type": "stream",
     "text": [
      "2017-12-01 00:52:30\n"
     ]
    }
   ],
   "source": [
    "stamp = int('1512085950')\n",
    "date = datetime.fromtimestamp(stamp)\n",
    "\n",
    "print(date)"
   ],
   "metadata": {
    "collapsed": false
   }
  },
  {
   "cell_type": "code",
   "execution_count": 16,
   "outputs": [
    {
     "data": {
      "text/plain": "True"
     },
     "execution_count": 16,
     "metadata": {},
     "output_type": "execute_result"
    }
   ],
   "source": [
    "x1 is None or x2 is None"
   ],
   "metadata": {
    "collapsed": false
   }
  },
  {
   "cell_type": "code",
   "execution_count": 12,
   "outputs": [],
   "source": [
    "from pandas import Timestamp\n",
    "import datetime\n",
    "d = [0.971066689798491, 0.9683871815276381, 0.9384783159548654, 0.9377674329937882, 0.9377674329937882, 0.9384783159548654, 0.9384783159548654, 0.9384783159548654, 0.9384783159548654, 0.9384783159548654, 0.9332603234385841, 0.9699420042095516, 0.9695004774650493, 0.9774511728719356, 0.7525233700052649, 0.9384783159548654, 0.9384783159548654, 0.9695004774650493, 0.9865760354454112, 0.9874318504974866, 0.8812648753366216, 0.8812648753366216, 0.8812648753366216, 0.9865760354454112, 0.9384783159548654, 0.9384783159548654, 0.9384783159548654, 0.9384783159548654, 0.9384783159548654, 0.9384783159548654, 0.9384783159548654, 0.9384783159548654, 0.9384783159548654, 0.9384783159548654, 0.9384783159548654, 0.9384783159548654, 0.9914611246210512, 0.9914611246210512, 0.9914611246210512, 0.9687292947500042]\n",
    "dat= [datetime.datetime(2023, 3, 16, 13, 22, 22), datetime.datetime(2023, 3, 16, 13, 19, 7), datetime.datetime(2023, 3, 15, 20, 11, 43), datetime.datetime(2023, 3, 15, 20, 11, 41), datetime.datetime(2023, 3, 13, 19, 59, 43), datetime.datetime(2023, 3, 13, 19, 59, 58), datetime.datetime(2023, 3, 13, 20, 0, 2), datetime.datetime(2023, 3, 13, 20, 0, 2), datetime.datetime(2023, 3, 13, 20, 0, 3), datetime.datetime(2023, 3, 13, 20, 0, 5), datetime.datetime(2023, 3, 13, 20, 0, 14), datetime.datetime(2023, 3, 13, 21, 15, 35), datetime.datetime(2023, 3, 13, 21, 15, 38), datetime.datetime(2023, 3, 12, 13, 29, 23), datetime.datetime(2023, 3, 12, 13, 29, 16), datetime.datetime(2023, 3, 12, 13, 29, 14), datetime.datetime(2023, 3, 12, 13, 29, 13), datetime.datetime(2023, 3, 12, 12, 38, 5), datetime.datetime(2023, 3, 12, 12, 37, 24), datetime.datetime(2023, 2, 22, 16, 47, 42), datetime.datetime(2023, 2, 22, 16, 46, 56), datetime.datetime(2023, 2, 22, 16, 46, 55), datetime.datetime(2023, 2, 22, 16, 46, 41), datetime.datetime(2023, 2, 22, 15, 52, 23), datetime.datetime(2023, 2, 22, 14, 50, 18), datetime.datetime(2023, 2, 22, 14, 50, 8), datetime.datetime(2023, 2, 22, 14, 50), datetime.datetime(2023, 2, 22, 14, 4, 58), datetime.datetime(2023, 2, 22, 14, 4, 57), datetime.datetime(2023, 2, 22, 14, 4, 56), datetime.datetime(2023, 2, 22, 13, 46, 54), datetime.datetime(2023, 2, 22, 13, 46, 51), datetime.datetime(2023, 2, 17, 10, 42, 11), datetime.datetime(2023, 2, 17, 10, 41, 7), datetime.datetime(2023, 2, 17, 10, 27, 3), datetime.datetime(2023, 2, 17, 10, 26, 34), datetime.datetime(2023, 2, 17, 10, 24, 51), datetime.datetime(2023, 2, 17, 10, 24, 41), datetime.datetime(2023, 2, 17, 10, 22, 54), datetime.datetime(2023, 2, 17, 9, 20, 56)]"
   ],
   "metadata": {
    "collapsed": false
   }
  },
  {
   "cell_type": "code",
   "execution_count": 5,
   "outputs": [],
   "source": [
    "import statsmodels.api as sm\n",
    "from analyzer.time_analyzer import TimeSeriesAnalyzer\n",
    "import pandas as pd\n"
   ],
   "metadata": {
    "collapsed": false
   }
  },
  {
   "cell_type": "code",
   "execution_count": 24,
   "outputs": [],
   "source": [],
   "metadata": {
    "collapsed": false
   }
  },
  {
   "cell_type": "code",
   "execution_count": 8,
   "outputs": [],
   "source": [
    "def extract_trend(data, model='additive', start_date=None):\n",
    "    data = data.resample('1d')['value'].agg('mean').fillna(0).asfreq('1D')\n",
    "    # Create a decomposition object with the specified model\n",
    "    decomposition = sm.tsa.seasonal_decompose(data, model=model)\n",
    "\n",
    "    # Extract the trend component from the decomposition object\n",
    "    trend = decomposition.trend\n",
    "\n",
    "    if start_date is not None:\n",
    "        start_date = pd.to_datetime(start_date)\n",
    "        trend = trend.loc[start_date:]\n",
    "\n",
    "    return trend.dropna()\n",
    "\n",
    "def index_dates(data, dates):\n",
    "    date_time = pd.to_datetime(dates)\n",
    "    df = pd.DataFrame()\n",
    "    df['value'] = data\n",
    "    df = df.set_index(date_time)\n",
    "    return df"
   ],
   "metadata": {
    "collapsed": false
   }
  },
  {
   "cell_type": "code",
   "execution_count": 8,
   "outputs": [],
   "source": [],
   "metadata": {
    "collapsed": false
   }
  },
  {
   "cell_type": "code",
   "execution_count": 13,
   "outputs": [],
   "source": [
    "x = index_dates(d, dat)"
   ],
   "metadata": {
    "collapsed": false
   }
  },
  {
   "cell_type": "code",
   "execution_count": 30,
   "outputs": [
    {
     "data": {
      "text/plain": "<Figure size 1000x500 with 1 Axes>",
      "image/png": "[encoded data removed]"
     },
     "metadata": {},
     "output_type": "display_data"
    }
   ],
   "source": [
    "\n"
   ],
   "metadata": {
    "collapsed": false
   }
  },
  {
   "cell_type": "code",
   "execution_count": 73,
   "outputs": [],
   "source": [
    "import pmdarima as pm\n",
    "from statsmodels.tsa.arima.model import ARIMA\n",
    "import matplotlib.pyplot as plt\n",
    "\n",
    "def get_prediction(data):\n",
    "    # Get ARIMA FIT\n",
    "    stepwise_fit = pm.auto_arima(data, start_p=1, start_q=1,\n",
    "                                 max_p=5, max_q=5, m=1,\n",
    "                                 start_P=0, seasonal=False,\n",
    "                                 d=1,\n",
    "                                 information_criterion='aic',\n",
    "                                 stepwise=True)\n",
    "    model = ARIMA(data, order=stepwise_fit.order, trend='n')\n",
    "    fmodel = model.fit()\n",
    "    predictions = fmodel.get_prediction(end='2023-03-31')\n",
    "    ci = predictions.conf_int()\n",
    "    fig = ci.plot(color='grey', figsize=(4, 2))\n",
    "    fmodel.data.orig_endog.plot(label='data', marker='.', fig=fig)\n",
    "    predictions.predicted_mean.plot(label='predictions', fig=fig)\n",
    "    plt.ylim(-2, 2)\n",
    "    plt.legend()\n",
    "    plt.show()\n",
    "    return predictions\n",
    "\n",
    "def plot_function(data, plot_path=None, x_label='Date', y_label='Sentiment value', data2=pd.Series([-1,0,1]), data3=pd.Series([-1,0,1])):\n",
    "\n",
    "    fig, (ax1, ax2, ax3) = plt.subplots(1, 3, figsize=(8, 2), width_ratios=[3, 1, 3], sharey=True)\n",
    "    fig.suptitle('Sentiment analysis', fontsize=14, y=1.1)\n",
    "\n",
    "    # Plot sentiment values\n",
    "    data.plot(ax=ax1)\n",
    "    plt.gcf().autofmt_xdate()\n",
    "    ax1.set_xlabel(x_label)\n",
    "    ax1.set_ylabel(y_label)\n",
    "    ax1.set_title(\"Historical data\")\n",
    "\n",
    "    # Plot trend TODO\n",
    "    data2.plot(ax=ax2)\n",
    "\n",
    "    ax2.set_xlabel(\"Date\")\n",
    "    ax2.set_ylabel(\"Trend\")\n",
    "    ax2.set_title(\"Current trend\")\n",
    "\n",
    "    # Plot prediction?\n",
    "    d3, dd3 = data3\n",
    "    d3.predicted_mean.plot(label='predictions', ax=ax3)\n",
    "    ci = d3.conf_int()\n",
    "    ci.plot(color='grey', ax=ax3)\n",
    "    dd3.plot(label='data', marker='.', ax=ax3)\n",
    "\n",
    "    plt.ylim(-1, 1)\n",
    "    #plt.legend()\n",
    "\n",
    "    ax3.set_xlabel(\"Date\")\n",
    "    ax3.set_ylabel(\"Prediction\")\n",
    "    ax3.set_title(\"Prediction\")\n",
    "    #ax3.text(4, 0, ''.join(data[\"value\"].apply(lambda x: emoji_from_score(x))), fontsize=20)\n",
    "\n",
    "    if plot_path is not None:\n",
    "        plt.savefig(plot_path)\n",
    "    plt.show()"
   ],
   "metadata": {
    "collapsed": false
   }
  },
  {
   "cell_type": "code",
   "execution_count": 74,
   "outputs": [
    {
     "data": {
      "text/plain": "<Figure size 400x200 with 1 Axes>",
      "image/png": "[encoded data removed]"
     },
     "metadata": {},
     "output_type": "display_data"
    },
    {
     "data": {
      "text/plain": "<Figure size 800x200 with 3 Axes>",
      "image/png": "[encoded data removed]"
     },
     "metadata": {},
     "output_type": "display_data"
    }
   ],
   "source": [
    "xx = x.resample('1d')['value'].agg('mean').fillna(0).asfreq('1D')\n",
    "xxx = get_prediction(xx)\n",
    "plot_function(results,plot_path='out/graphs/foo.png', data3=(xxx, xx))"
   ],
   "metadata": {
    "collapsed": false
   }
  },
  {
   "cell_type": "code",
   "execution_count": null,
   "outputs": [],
   "source": [],
   "metadata": {
    "collapsed": false
   }
  },
  {
   "cell_type": "code",
   "execution_count": 1,
   "outputs": [
    {
     "data": {
      "text/plain": "'hello.'"
     },
     "execution_count": 1,
     "metadata": {},
     "output_type": "execute_result"
    }
   ],
   "source": [
    "from googletrans import Translator\n",
    "from tqdm import tqdm\n",
    "translator = Translator()\n",
    "translator.translate('안녕하세요.').text"
   ],
   "metadata": {
    "collapsed": false
   }
  },
  {
   "cell_type": "code",
   "execution_count": 5,
   "outputs": [
    {
     "data": {
      "text/plain": "'lol no'"
     },
     "execution_count": 5,
     "metadata": {},
     "output_type": "execute_result"
    }
   ],
   "source": [
    "text = 'to fakt ne lol. prosím, udělejme to jinak, tohle je fakt špatný'\n",
    "translator.translate('lol ne').text"
   ],
   "metadata": {
    "collapsed": false
   }
  },
  {
   "cell_type": "code",
   "execution_count": 12,
   "outputs": [
    {
     "name": "stderr",
     "output_type": "stream",
     "text": [
      "100%|██████████| 1000/1000 [01:44<00:00,  9.61it/s]\n"
     ]
    }
   ],
   "source": [
    "d = ['to fakt ne' for x in range(1000)]\n",
    "for dd in tqdm(d):\n",
    "    translator.translate(dd, src='cs', dest='en').text"
   ],
   "metadata": {
    "collapsed": false
   }
  },
  {
   "cell_type": "code",
   "execution_count": 4,
   "outputs": [
    {
     "name": "stdout",
     "output_type": "stream",
     "text": [
      "cs 1\n",
      "ja 0.9712484\n",
      "hr 0.4983079\n",
      "fr 0.98445046\n"
     ]
    }
   ],
   "source": [
    "langs = translator.detect([text, '日本語', 'lol ne', 'le français'])\n",
    "for lang in langs:\n",
    "    print(lang.lang, lang.confidence)"
   ],
   "metadata": {
    "collapsed": false
   }
  },
  {
   "cell_type": "code",
   "execution_count": 12,
   "outputs": [
    {
     "name": "stdout",
     "output_type": "stream",
     "text": [
      "[1970-01-15 07:00:31 >> asd::not really lol. please let's do it differently, this is really bad\n",
      " Reactions: [], 1970-01-15 07:00:31 >> asd::are u kidding me\n",
      " Reactions: [], 1970-01-15 07:00:31 >> asd::lol\n",
      " Reactions: [], 1970-01-15 07:00:31 >> asd::we will try to deploy apps to production\n",
      " Reactions: []]\n"
     ]
    }
   ],
   "source": [
    "from helpers.message import Message\n",
    "\n",
    "\n",
    "def try_translate_messages(messages: []) -> []:\n",
    "    translated_messages = messages.copy()\n",
    "    langs = [lang.lang for lang in translator.detect([msg.text for msg in messages])]\n",
    "    for i, lang in enumerate(langs):\n",
    "        if isinstance(lang, list):\n",
    "            lang = lang[0]\n",
    "        if lang != 'en':\n",
    "            m = messages[i]\n",
    "            translated = translator.translate(m.text, src=str(lang), dest='en')\n",
    "            translated_messages[i] = Message(translated.text, m.user, m.timestamp, m.reactions)\n",
    "    return translated_messages\n",
    "\n",
    "testing_data = [Message('to fakt ne lol. prosím, udělejme to jinak, tohle je fakt špatný', 'asd', '1231231'),\n",
    "                Message('are u kidding me', 'asd', '1231231'),\n",
    "                Message('lol', 'asd', '1231231'),\n",
    "                Message('zkusíme deploy appky na produkci', 'asd', '1231231')]\n",
    "print(try_translate_messages(testing_data))"
   ],
   "metadata": {
    "collapsed": false
   }
  },
  {
   "cell_type": "code",
   "execution_count": null,
   "outputs": [],
   "source": [],
   "metadata": {
    "collapsed": false
   }
  }
 ],
 "metadata": {
  "kernelspec": {
   "display_name": "venv",
   "language": "python",
   "name": "python3"
  },
  "language_info": {
   "codemirror_mode": {
    "name": "ipython",
    "version": 3
   },
   "file_extension": ".py",
   "mimetype": "text/x-python",
   "name": "python",
   "nbconvert_exporter": "python",
   "pygments_lexer": "ipython3",
   "version": "3.10.7"
  },
  "orig_nbformat": 4,
  "vscode": {
   "interpreter": {
    "hash": "c011ed6bf922ee54bc201eceecf54cf8e6293d9ca800dfe0b9a9fb97a052d906"
   }
  }
 },
 "nbformat": 4,
 "nbformat_minor": 2
}
