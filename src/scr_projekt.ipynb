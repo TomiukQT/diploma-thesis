{
 "cells": [
  {
   "cell_type": "code",
   "execution_count": null,
   "metadata": {},
   "outputs": [],
   "source": [
    "#importy\n",
    "from datetime import datetime\n",
    "import numpy as np\n",
    "\n",
    "import pandas as pd\n",
    "import seaborn as sns\n",
    "import statsmodels.api as sm\n",
    "from nltk.sentiment import SentimentIntensityAnalyzer\n",
    "from tqdm import tqdm\n",
    "import json\n",
    "\n",
    "\n",
    "from tsplot import tsplot\n",
    "from statsmodels.tsa.arima.model import ARIMA\n",
    "from statsmodels.tsa.stattools import arma_order_select_ic\n",
    "import matplotlib.pylab as plt\n",
    "import warnings\n",
    "warnings.simplefilter(action='ignore', category=(FutureWarning, DeprecationWarning))"
   ]
  },
  {
   "attachments": {},
   "cell_type": "markdown",
   "metadata": {},
   "source": [
    "# Cíle projektu\n",
    "Cílem projektu je analyzovat sentiment získaný ze zpráv z komunikační aplikace Slack. \n",
    "# Data\n",
    "Jako dataset jsem použil zprávy ze Slacku: [zdroj]. Nejdříve jsem musel data očistit a provést samotnou analýzu sentimentu, pomocí natrénovaného analyzátoru z balíčku nltk.\n",
    "Analýza vrací 4 složky/metriky: positive/negative/neutral a compound, které všechny budeme analyzovat.  "
   ]
  },
  {
   "cell_type": "code",
   "execution_count": null,
   "metadata": {},
   "outputs": [],
   "source": [
    "#DATA PREPARATION (Takes about 10 minutes, so I converted final dataset to csv slack_data_pol.csv\n",
    "sia = SentimentIntensityAnalyzer()\n",
    "df = pd.read_csv('slack_data.csv', sep=',')\n",
    "df = df[['sent', 'text']]\n",
    "df['text'] = df['text'].astype(str)\n",
    "\n",
    "df['sent'] = df['sent'].apply(lambda x: datetime.strptime(x[:10], '%Y-%m-%d'))\n",
    "df['pol'] = df['text'].apply(lambda x: sia.polarity_scores(x))\n",
    "df.to_csv('slack_data_pol_full.csv')\n",
    "df['CompoundPol'] = df['pol'].apply(lambda x: x['compound'])\n",
    "df = df[['sent', 'CompoundPol']]\n",
    "df = df.groupby(['sent']).mean()\n",
    "df.to_csv('slack_data_pol.csv')"
   ]
  },
  {
   "attachments": {},
   "cell_type": "markdown",
   "metadata": {},
   "source": [
    "## Prvotní analýza\n",
    "Na grafu dole můžeme vidět vizualizaci naší datové řady. Řada vznikla zprůměrováním určité metriky v rámci jednoho dne. Na grafech s různými počty analyzovaných lagů, můžeme vidět, že ACF začíná blízko k 1, ale pomalu klesá. PACF je významně vysoká mezi lagy 1-4, což znamená, že nálada konkrétní den, je přímo ovlivněna historií chatu zhruba 4 dny nazpět. Z grafu také vyčteme neexistenci sezónosti v rámci dní.  "
   ]
  },
  {
   "cell_type": "code",
   "execution_count": null,
   "metadata": {},
   "outputs": [],
   "source": [
    "df = pd.read_csv('slack_data_pol.csv', sep=',', index_col=0, parse_dates=True, infer_datetime_format=True)\n",
    "display(df.head())\n",
    "display(df.tail(5))\n",
    "df['CompoundPol'] = df['CompoundPol'].astype(float)\n",
    "df = df['CompoundPol'].last('2Y')\n",
    "df = df.asfreq('D', 'bfill')\n",
    "tsplot(df, lags=30)"
   ]
  },
  {
   "cell_type": "code",
   "execution_count": null,
   "metadata": {},
   "outputs": [],
   "source": [
    "tsplot(df, lags=353)"
   ]
  },
  {
   "attachments": {},
   "cell_type": "markdown",
   "metadata": {},
   "source": [
    "# Analýza po týdnech "
   ]
  },
  {
   "cell_type": "code",
   "execution_count": null,
   "metadata": {},
   "outputs": [],
   "source": [
    "df = pd.read_csv('slack_data_pol.csv', sep=',', index_col=0, parse_dates=True, infer_datetime_format=True)\n",
    "df['CompoundPol'] = df['CompoundPol'].astype(float)\n",
    "df = df['CompoundPol'].last('2Y')\n",
    "df = df.asfreq('W', 'bfill')\n",
    "tsplot(df, lags=49)"
   ]
  },
  {
   "attachments": {},
   "cell_type": "markdown",
   "metadata": {},
   "source": [
    "# Model"
   ]
  },
  {
   "cell_type": "markdown",
   "metadata": {},
   "source": []
  }
 ],
 "metadata": {
  "kernelspec": {
   "display_name": "venv",
   "language": "python",
   "name": "python3"
  },
  "language_info": {
   "name": "python",
   "version": "3.10.7 (tags/v3.10.7:6cc6b13, Sep  5 2022, 14:08:36) [MSC v.1933 64 bit (AMD64)]"
  },
  "orig_nbformat": 4,
  "vscode": {
   "interpreter": {
    "hash": "c011ed6bf922ee54bc201eceecf54cf8e6293d9ca800dfe0b9a9fb97a052d906"
   }
  }
 },
 "nbformat": 4,
 "nbformat_minor": 2
}
