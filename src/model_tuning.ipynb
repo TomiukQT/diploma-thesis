{
 "cells": [
  {
   "cell_type": "code",
   "execution_count": 14,
   "metadata": {
    "collapsed": true
   },
   "outputs": [],
   "source": [
    "import pickle\n",
    "import os\n",
    "\n",
    "from re import subn\n",
    "import pandas as pd\n",
    "import numpy as np\n",
    "from datetime import datetime\n",
    "\n",
    "from sklearn.model_selection import train_test_split, ParameterGrid\n",
    "from sklearn.metrics import f1_score, confusion_matrix, ConfusionMatrixDisplay, roc_auc_score, average_precision_score\n",
    "import matplotlib.pyplot as plt\n",
    "\n",
    "from analyzer import data_cleaner\n",
    "from analyzer.data_transformation import TfidfDataTransformer, BagOfWordsTransformer, DataTransformer\n",
    "\n",
    "from imblearn.under_sampling import TomekLinks, RandomUnderSampler, CondensedNearestNeighbour,EditedNearestNeighbours\n",
    "from imblearn.over_sampling import SMOTE\n",
    "\n",
    "from sklearn.linear_model import LogisticRegression\n",
    "from sklearn.naive_bayes import BernoulliNB, ComplementNB\n",
    "from sklearn.neural_network import MLPClassifier\n",
    "\n"
   ]
  },
  {
   "cell_type": "code",
   "execution_count": 2,
   "outputs": [],
   "source": [
    "# Run this cell if you want to ignore warnings\n",
    "import warnings\n",
    "from sklearn.exceptions import ConvergenceWarning\n",
    "from scipy.linalg import LinAlgWarning\n",
    "warnings.filterwarnings('ignore')\n",
    "warnings.filterwarnings(action='ignore', category=LinAlgWarning, module='sklearn')\n",
    "warnings.simplefilter('ignore', category=ConvergenceWarning)\n"
   ],
   "metadata": {
    "collapsed": false
   }
  },
  {
   "cell_type": "code",
   "execution_count": 39,
   "outputs": [],
   "source": [
    "def load_and_clean_data(filepath, rename_dict=None, vectorizer_output='models/vectorizer.sav', **kwargs) -> (pd.DataFrame, DataTransformer):\n",
    "    # Load data\n",
    "    df = pd.read_csv(filepath, **kwargs)\n",
    "\n",
    "    if rename_dict is not None:\n",
    "        df.rename(columns=rename_dict, inplace=True)\n",
    "    #display(df.head(5))\n",
    "    # Clean data\n",
    "        # Remove @ mentions\n",
    "    df['clean_text'] = np.vectorize(data_cleaner.clean_mentions)(df['text'])\n",
    "        # Remove non alfabet chars\n",
    "    df['clean_text'] = df['clean_text'].str.replace(\"[^a-zA-Z#]\", \" \")\n",
    "        # Remove short words\n",
    "    df['clean_text'] = df['clean_text'].apply(lambda x: ' '.join([w for w in x.split() if len(w)>2]))\n",
    "    # Transform\n",
    "    #tr = TfidfDataTransformer()\n",
    "    tr = BagOfWordsTransformer()\n",
    "    # Stemming\n",
    "    df['clean_text'] = tr.stemming(df['clean_text'])\n",
    "\n",
    "    tr.vectorizer_fit(df['clean_text'])\n",
    "    df_tfidf = tr.transform(df['clean_text'])\n",
    "    pickle.dump(tr.vectorizer, open(vectorizer_output, 'wb'))\n",
    "\n",
    "\n",
    "    return df, df_tfidf, tr\n",
    "\n",
    "def balance_data(X, y, balancer = RandomUnderSampler(sampling_strategy='not minority',random_state=1337)) -> pd.DataFrame:\n",
    "    X_balanced, y_balanced = balancer.fit_resample(X, y)\n",
    "    return X_balanced, y_balanced\n",
    "\n",
    "\n",
    "\n",
    "def fit_model(X, y, model_type, params, model_output='../models/model.sav', ):\n",
    "    model = model_type(**params)\n",
    "    model.fit(X,y)\n",
    "    if model_output is not None:\n",
    "        pickle.dump(model, open(model_output, 'wb'))\n",
    "    return model\n",
    "\n",
    "proba_models = set(['LogisticRegression', 'BernoulliNB', 'MLPClassifier', 'ComplementNB'])\n",
    "def predict(model, data):\n",
    "    model_name = type(model).__name__\n",
    "    if model_name in proba_models:\n",
    "        predictions = model.predict_proba(data)\n",
    "    else:\n",
    "        predictions = model.predict(data)\n",
    "    return predictions\n",
    "\n",
    "def metrics(predictions, true_values, name_prefix=\"\", plot=True):\n",
    "    predictions_int =  predictions[:,1]>=0.3\n",
    "    # Calculate metrics\n",
    "    metrics = {\n",
    "        'f1_score': f1_score(true_values, predictions_int),\n",
    "        'confusion_matrix': confusion_matrix(true_values, predictions_int),\n",
    "        'roc_auc_score': roc_auc_score(true_values, predictions[:,1]),\n",
    "        'average_precision_score': average_precision_score(true_values, predictions[:,1])\n",
    "    }\n",
    "    # Plot?? mby\n",
    "    if plot:\n",
    "        ConfusionMatrixDisplay.from_predictions(true_values, predictions_int)\n",
    "        plt.show()\n",
    "    # Write to outputfile.\n",
    "    with open(f'out/results/{name_prefix}_out.out', 'w') as f:\n",
    "            f.write(str(metrics))\n",
    "    return metrics"
   ],
   "metadata": {
    "collapsed": false
   }
  },
  {
   "cell_type": "code",
   "execution_count": 16,
   "outputs": [],
   "source": [
    "def clean_folders():\n",
    "    for folder, end in [('models', '.sav'), ('out/results', '.out')]:\n",
    "        filelist = [ f for f in os.listdir(folder) if f.endswith(end) ]\n",
    "        for f in filelist:\n",
    "            os.remove(os.path.join(folder, f))"
   ],
   "metadata": {
    "collapsed": false
   }
  },
  {
   "cell_type": "code",
   "execution_count": 34,
   "outputs": [
    {
     "data": {
      "text/plain": "array([[0.16896918, 0.83103082]])"
     },
     "execution_count": 34,
     "metadata": {},
     "output_type": "execute_result"
    }
   ],
   "source": [
    "def analyze_sentence(text, model_file, vectorizer_file):\n",
    "    text = pd.Series([text])\n",
    "    #text = np.vectorize(data_cleaner.clean_mentions)(text)\n",
    "    # Remove non alfabet chars\n",
    "    text = text.str.replace(\"[^a-zA-Z#]\", \" \")\n",
    "    # Remove short words\n",
    "    text = text.apply(lambda x: ' '.join([w for w in x.split() if len(w)>2]))\n",
    "    # Transform\n",
    "    tr = TfidfDataTransformer(vectorizer_file)\n",
    "    # Stemming\n",
    "    text = tr.stemming(text)\n",
    "    df_tfidf = tr.transform(text)\n",
    "    model = pickle.load(open(f'{model_file}', 'rb'))\n",
    "    return model.predict_proba(df_tfidf)\n"
   ],
   "metadata": {
    "collapsed": false
   }
  },
  {
   "cell_type": "code",
   "execution_count": 6,
   "outputs": [],
   "source": [
    "def __model_tuning__(X_train, y_train, X_valid, y_valid, model_type,params, output_file, data_label=\"\", verbose=False, plot=False):\n",
    "    output_name = f'{model_type.__name__}-$-{data_label}-{datetime.now().timestamp()}'\n",
    "    model_output = f'models/{output_name}.sav'\n",
    "    outputs = []\n",
    "    if verbose:\n",
    "        print(f'Starting tuning of {model_type.__name__} with data labeled: {data_label}')\n",
    "        print('===============')\n",
    "    parameter_grid = ParameterGrid(params)\n",
    "    for i, p in enumerate(parameter_grid):\n",
    "        param_string = subn(\"[{}',:]\",\"\",\"\".join(str(p).split()))[0]\n",
    "        if verbose:\n",
    "            print(f'Params {i+1}/{len(parameter_grid)}: {p}')\n",
    "        model_output = model_output.replace('$',param_string)\n",
    "        model = fit_model(X_train, y_train, model_type, params=p, model_output=model_output)\n",
    "        predictions = predict(model, X_valid)\n",
    "        output = metrics(predictions, y_valid, output_name.replace('$',param_string),plot=plot)\n",
    "        outputs.append(output)\n",
    "        if verbose:\n",
    "            print(f'Output: {output}')\n",
    "    if verbose:\n",
    "        print(f'Tuning ended')\n",
    "        print('===============')\n",
    "    return outputs\n"
   ],
   "metadata": {
    "collapsed": false
   }
  },
  {
   "cell_type": "markdown",
   "source": [],
   "metadata": {
    "collapsed": false
   }
  },
  {
   "cell_type": "code",
   "execution_count": 41,
   "outputs": [],
   "source": [
    "clean_folders()"
   ],
   "metadata": {
    "collapsed": false
   }
  },
  {
   "cell_type": "code",
   "execution_count": 19,
   "outputs": [],
   "source": [
    "verbose = True\n",
    "random_state = 1337"
   ],
   "metadata": {
    "collapsed": false
   }
  },
  {
   "cell_type": "code",
   "execution_count": 40,
   "outputs": [
    {
     "name": "stdout",
     "output_type": "stream",
     "text": [
      "=====================\n",
      "==LogisticRegression==\n",
      "=====================\n",
      "Starting tuning of LogisticRegression with data labeled: bal\n",
      "===============\n",
      "Params 1/4: {'class_weight': None, 'n_jobs': -1, 'penalty': 'none', 'solver': 'newton-cholesky'}\n",
      "Output: {'f1_score': 0.336046511627907, 'confusion_matrix': array([[6727, 2182],\n",
      "       [ 102,  578]], dtype=int64), 'roc_auc_score': 0.8648029421668768, 'average_precision_score': 0.3519100884150507}\n",
      "Params 2/4: {'class_weight': None, 'n_jobs': -1, 'penalty': 'l2', 'solver': 'newton-cholesky'}\n",
      "Output: {'f1_score': 0.29746401644962306, 'confusion_matrix': array([[5863, 3046],\n",
      "       [  29,  651]], dtype=int64), 'roc_auc_score': 0.9162075858517165, 'average_precision_score': 0.517053932610335}\n",
      "Params 3/4: {'class_weight': 'balanced', 'n_jobs': -1, 'penalty': 'none', 'solver': 'newton-cholesky'}\n",
      "Output: {'f1_score': 0.336046511627907, 'confusion_matrix': array([[6727, 2182],\n",
      "       [ 102,  578]], dtype=int64), 'roc_auc_score': 0.8648029421668768, 'average_precision_score': 0.3519100884150507}\n",
      "Params 4/4: {'class_weight': 'balanced', 'n_jobs': -1, 'penalty': 'l2', 'solver': 'newton-cholesky'}\n",
      "Output: {'f1_score': 0.29746401644962306, 'confusion_matrix': array([[5863, 3046],\n",
      "       [  29,  651]], dtype=int64), 'roc_auc_score': 0.9162075858517165, 'average_precision_score': 0.517053932610335}\n",
      "Tuning ended\n",
      "===============\n",
      "Starting tuning of LogisticRegression with data labeled: unba\n",
      "===============\n",
      "Params 1/4: {'class_weight': None, 'n_jobs': -1, 'penalty': 'none', 'solver': 'newton-cholesky'}\n",
      "Output: {'f1_score': 0.542624166048925, 'confusion_matrix': array([[8606,  303],\n",
      "       [ 314,  366]], dtype=int64), 'roc_auc_score': 0.9063534561877282, 'average_precision_score': 0.589559711373673}\n",
      "Params 2/4: {'class_weight': None, 'n_jobs': -1, 'penalty': 'l2', 'solver': 'newton-cholesky'}\n",
      "Output: {'f1_score': 0.5619285120532004, 'confusion_matrix': array([[8724,  185],\n",
      "       [ 342,  338]], dtype=int64), 'roc_auc_score': 0.9182952797237427, 'average_precision_score': 0.6032837704686355}\n",
      "Params 3/4: {'class_weight': 'balanced', 'n_jobs': -1, 'penalty': 'none', 'solver': 'newton-cholesky'}\n",
      "Output: {'f1_score': 0.3876345953456061, 'confusion_matrix': array([[7268, 1641],\n",
      "       [ 122,  558]], dtype=int64), 'roc_auc_score': 0.9020943791143127, 'average_precision_score': 0.5585683303153731}\n",
      "Params 4/4: {'class_weight': 'balanced', 'n_jobs': -1, 'penalty': 'l2', 'solver': 'newton-cholesky'}\n",
      "Output: {'f1_score': 0.36266030420518935, 'confusion_matrix': array([[6844, 2065],\n",
      "       [  72,  608]], dtype=int64), 'roc_auc_score': 0.919627046014275, 'average_precision_score': 0.575042532118954}\n",
      "Tuning ended\n",
      "===============\n",
      "=====================\n",
      "==BernoulliNB==\n",
      "=====================\n",
      "Starting tuning of BernoulliNB with data labeled: bal\n",
      "===============\n",
      "Params 1/10: {'alpha': 0.0, 'binarize': None, 'fit_prior': True}\n",
      "Output: {'f1_score': 0.3453237410071942, 'confusion_matrix': array([[6714, 2195],\n",
      "       [  80,  600]], dtype=int64), 'roc_auc_score': 0.8844232204050102, 'average_precision_score': 0.40475557987263855}\n",
      "Params 2/10: {'alpha': 0.0, 'binarize': None, 'fit_prior': False}\n",
      "Output: {'f1_score': 0.3453237410071942, 'confusion_matrix': array([[6714, 2195],\n",
      "       [  80,  600]], dtype=int64), 'roc_auc_score': 0.8844228902695885, 'average_precision_score': 0.40475452660458017}\n",
      "Params 3/10: {'alpha': 0.2, 'binarize': None, 'fit_prior': True}\n",
      "Output: {'f1_score': 0.3455902681780481, 'confusion_matrix': array([[6597, 2312],\n",
      "       [  55,  625]], dtype=int64), 'roc_auc_score': 0.91516146923468, 'average_precision_score': 0.5378303653524387}\n",
      "Params 4/10: {'alpha': 0.2, 'binarize': None, 'fit_prior': False}\n",
      "Output: {'f1_score': 0.3455902681780481, 'confusion_matrix': array([[6597, 2312],\n",
      "       [  55,  625]], dtype=int64), 'roc_auc_score': 0.9151619644378124, 'average_precision_score': 0.537830297356214}\n",
      "Params 5/10: {'alpha': 0.4, 'binarize': None, 'fit_prior': True}\n",
      "Output: {'f1_score': 0.33965330444203684, 'confusion_matrix': array([[6524, 2385],\n",
      "       [  53,  627]], dtype=int64), 'roc_auc_score': 0.9166032531544439, 'average_precision_score': 0.5426269246432915}\n",
      "Params 6/10: {'alpha': 0.4, 'binarize': None, 'fit_prior': False}\n",
      "Output: {'f1_score': 0.33965330444203684, 'confusion_matrix': array([[6524, 2385],\n",
      "       [  53,  627]], dtype=int64), 'roc_auc_score': 0.9166292513188911, 'average_precision_score': 0.5427680669003059}\n",
      "Params 7/10: {'alpha': 0.6000000000000001, 'binarize': None, 'fit_prior': True}\n",
      "Output: {'f1_score': 0.3345724907063197, 'confusion_matrix': array([[6453, 2456],\n",
      "       [  50,  630]], dtype=int64), 'roc_auc_score': 0.9169899242669342, 'average_precision_score': 0.54428289732191}\n",
      "Params 8/10: {'alpha': 0.6000000000000001, 'binarize': None, 'fit_prior': False}\n",
      "Output: {'f1_score': 0.3345724907063197, 'confusion_matrix': array([[6453, 2456],\n",
      "       [  50,  630]], dtype=int64), 'roc_auc_score': 0.9169764712485062, 'average_precision_score': 0.5442646281663535}\n",
      "Params 9/10: {'alpha': 0.8, 'binarize': None, 'fit_prior': True}\n",
      "Output: {'f1_score': 0.3321129707112971, 'confusion_matrix': array([[6400, 2509],\n",
      "       [  45,  635]], dtype=int64), 'roc_auc_score': 0.9170490185073916, 'average_precision_score': 0.5449202690874644}\n",
      "Params 10/10: {'alpha': 0.8, 'binarize': None, 'fit_prior': False}\n",
      "Output: {'f1_score': 0.3321129707112971, 'confusion_matrix': array([[6400, 2509],\n",
      "       [  45,  635]], dtype=int64), 'roc_auc_score': 0.9170919361121932, 'average_precision_score': 0.5450355735840845}\n",
      "Tuning ended\n",
      "===============\n",
      "Starting tuning of BernoulliNB with data labeled: unba\n",
      "===============\n",
      "Params 1/10: {'alpha': 0.0, 'binarize': None, 'fit_prior': True}\n",
      "Output: {'f1_score': 0.5294117647058824, 'confusion_matrix': array([[8439,  470],\n",
      "       [ 266,  414]], dtype=int64), 'roc_auc_score': 0.8997343235195078, 'average_precision_score': 0.5717468482070591}\n",
      "Params 2/10: {'alpha': 0.0, 'binarize': None, 'fit_prior': False}\n",
      "Output: {'f1_score': 0.3676148796498906, 'confusion_matrix': array([[6978, 1931],\n",
      "       [  92,  588]], dtype=int64), 'roc_auc_score': 0.8997343235195077, 'average_precision_score': 0.571746848207059}\n",
      "Params 3/10: {'alpha': 0.2, 'binarize': None, 'fit_prior': True}\n",
      "Output: {'f1_score': 0.5318352059925094, 'confusion_matrix': array([[8413,  496],\n",
      "       [ 254,  426]], dtype=int64), 'roc_auc_score': 0.9202109730411415, 'average_precision_score': 0.5790603887135645}\n",
      "Params 4/10: {'alpha': 0.2, 'binarize': None, 'fit_prior': False}\n",
      "Output: {'f1_score': 0.364441819255759, 'confusion_matrix': array([[6820, 2089],\n",
      "       [  63,  617]], dtype=int64), 'roc_auc_score': 0.9202109730411415, 'average_precision_score': 0.5790603887135645}\n",
      "Params 5/10: {'alpha': 0.4, 'binarize': None, 'fit_prior': True}\n",
      "Output: {'f1_score': 0.5315822388993121, 'confusion_matrix': array([[8415,  494],\n",
      "       [ 255,  425]], dtype=int64), 'roc_auc_score': 0.921288865192502, 'average_precision_score': 0.5757947637433445}\n",
      "Params 6/10: {'alpha': 0.4, 'binarize': None, 'fit_prior': False}\n",
      "Output: {'f1_score': 0.3615851894706393, 'confusion_matrix': array([[6757, 2152],\n",
      "       [  55,  625]], dtype=int64), 'roc_auc_score': 0.921288865192502, 'average_precision_score': 0.5757947637433445}\n",
      "Params 7/10: {'alpha': 0.6000000000000001, 'binarize': None, 'fit_prior': True}\n",
      "Output: {'f1_score': 0.529338327091136, 'confusion_matrix': array([[8411,  498],\n",
      "       [ 256,  424]], dtype=int64), 'roc_auc_score': 0.921239675014691, 'average_precision_score': 0.5722596266242885}\n",
      "Params 8/10: {'alpha': 0.6000000000000001, 'binarize': None, 'fit_prior': False}\n",
      "Output: {'f1_score': 0.35671684180630503, 'confusion_matrix': array([[6696, 2213],\n",
      "       [  52,  628]], dtype=int64), 'roc_auc_score': 0.921239675014691, 'average_precision_score': 0.5722596266242885}\n",
      "Params 9/10: {'alpha': 0.8, 'binarize': None, 'fit_prior': True}\n",
      "Output: {'f1_score': 0.514501891551072, 'confusion_matrix': array([[8411,  498],\n",
      "       [ 272,  408]], dtype=int64), 'roc_auc_score': 0.9207679114972963, 'average_precision_score': 0.568073951214605}\n",
      "Params 10/10: {'alpha': 0.8, 'binarize': None, 'fit_prior': False}\n",
      "Output: {'f1_score': 0.3509454949944383, 'confusion_matrix': array([[6624, 2285],\n",
      "       [  49,  631]], dtype=int64), 'roc_auc_score': 0.9207679114972963, 'average_precision_score': 0.568073951214605}\n",
      "Tuning ended\n",
      "===============\n"
     ]
    }
   ],
   "source": [
    "models = [\n",
    "    (LogisticRegression, {\n",
    "        'penalty': ['none', 'l2'],\n",
    "        'class_weight': [None,'balanced'],\n",
    "        'n_jobs': [-1],\n",
    "        'solver': ['newton-cholesky']\n",
    "    }),\n",
    "    (BernoulliNB, {\n",
    "        'alpha' : np.arange(0.0, 1.0, 0.2),\n",
    "        'fit_prior': [True, False],\n",
    "        'binarize': [None]\n",
    "\n",
    "    }),\n",
    "    (MLPClassifier, {\n",
    "        'hidden_layer_sizes': [(100,), (100, 100), (50, 50, 50), (50,)],\n",
    "        'activation': ['identity', 'logistic'],\n",
    "        'alpha': [0.0001, 0.001]\n",
    "    }),\n",
    "    (ComplementNB,{\n",
    "        'alpha' : np.arange(0.0, 1.0, 0.2),\n",
    "        'fit_prior': [True, False],\n",
    "        'norm': [True, False],\n",
    "    })\n",
    "\n",
    "\n",
    "]\n",
    "\n",
    "\n",
    "for model, param_grid in models[:2]:\n",
    "    if verbose:\n",
    "        print('=====================')\n",
    "        print(f'=={model.__name__}==')\n",
    "        print('=====================')\n",
    "\n",
    "    df, df_tfidf, tr = load_and_clean_data('data/train.csv', rename_dict={'tweet':'text', 'label':'output'})\n",
    "    X_train, X_valid, y_train, y_valid = train_test_split(df_tfidf, df['output'],test_size=0.3,random_state=random_state)\n",
    "    X_train_balanced, y_train_balanced = balance_data(X_train, y_train)\n",
    "\n",
    "    output = __model_tuning__(X_train_balanced, y_train_balanced, X_valid, y_valid, model, param_grid, 'lin_reg_1' ,'bal', verbose=verbose)\n",
    "    output2 = __model_tuning__(X_train, y_train, X_valid, y_valid, model, param_grid, 'lin_reg_1' ,'unba', verbose=verbose)\n"
   ],
   "metadata": {
    "collapsed": false
   }
  },
  {
   "cell_type": "code",
   "execution_count": 9,
   "outputs": [],
   "source": [
    "# Balancer test"
   ],
   "metadata": {
    "collapsed": false
   }
  },
  {
   "cell_type": "code",
   "execution_count": 25,
   "outputs": [
    {
     "ename": "KeyboardInterrupt",
     "evalue": "",
     "output_type": "error",
     "traceback": [
      "\u001B[1;31m---------------------------------------------------------------------------\u001B[0m",
      "\u001B[1;31mKeyboardInterrupt\u001B[0m                         Traceback (most recent call last)",
      "Cell \u001B[1;32mIn[25], line 9\u001B[0m\n\u001B[0;32m      1\u001B[0m model1_grid\u001B[38;5;241m=\u001B[39m {\n\u001B[0;32m      2\u001B[0m     \u001B[38;5;124m'\u001B[39m\u001B[38;5;124mpenalty\u001B[39m\u001B[38;5;124m'\u001B[39m: [\u001B[38;5;124m'\u001B[39m\u001B[38;5;124mnone\u001B[39m\u001B[38;5;124m'\u001B[39m, \u001B[38;5;124m'\u001B[39m\u001B[38;5;124ml2\u001B[39m\u001B[38;5;124m'\u001B[39m],\n\u001B[0;32m      3\u001B[0m     \u001B[38;5;124m'\u001B[39m\u001B[38;5;124mclass_weight\u001B[39m\u001B[38;5;124m'\u001B[39m: [\u001B[38;5;28;01mNone\u001B[39;00m, \u001B[38;5;124m'\u001B[39m\u001B[38;5;124mbalanced\u001B[39m\u001B[38;5;124m'\u001B[39m],\n\u001B[1;32m   (...)\u001B[0m\n\u001B[0;32m      6\u001B[0m     \u001B[38;5;124m'\u001B[39m\u001B[38;5;124mmax_iter\u001B[39m\u001B[38;5;124m'\u001B[39m: [\u001B[38;5;241m500\u001B[39m]\n\u001B[0;32m      7\u001B[0m }\n\u001B[0;32m      8\u001B[0m model1 \u001B[38;5;241m=\u001B[39m LogisticRegression\n\u001B[1;32m----> 9\u001B[0m df, df_tfidf, tr \u001B[38;5;241m=\u001B[39m \u001B[43mload_and_clean_data\u001B[49m\u001B[43m(\u001B[49m\u001B[38;5;124;43m'\u001B[39;49m\u001B[38;5;124;43mdata/train.csv\u001B[39;49m\u001B[38;5;124;43m'\u001B[39;49m\u001B[43m,\u001B[49m\u001B[43m \u001B[49m\u001B[43mrename_dict\u001B[49m\u001B[38;5;241;43m=\u001B[39;49m\u001B[43m{\u001B[49m\u001B[38;5;124;43m'\u001B[39;49m\u001B[38;5;124;43mtweet\u001B[39;49m\u001B[38;5;124;43m'\u001B[39;49m\u001B[43m:\u001B[49m\u001B[38;5;124;43m'\u001B[39;49m\u001B[38;5;124;43mtext\u001B[39;49m\u001B[38;5;124;43m'\u001B[39;49m\u001B[43m,\u001B[49m\u001B[43m \u001B[49m\u001B[38;5;124;43m'\u001B[39;49m\u001B[38;5;124;43mlabel\u001B[39;49m\u001B[38;5;124;43m'\u001B[39;49m\u001B[43m:\u001B[49m\u001B[38;5;124;43m'\u001B[39;49m\u001B[38;5;124;43moutput\u001B[39;49m\u001B[38;5;124;43m'\u001B[39;49m\u001B[43m}\u001B[49m\u001B[43m)\u001B[49m\n\u001B[0;32m     10\u001B[0m X_train, X_valid, y_train, y_valid \u001B[38;5;241m=\u001B[39m train_test_split(df_tfidf, df[\u001B[38;5;124m'\u001B[39m\u001B[38;5;124moutput\u001B[39m\u001B[38;5;124m'\u001B[39m],test_size\u001B[38;5;241m=\u001B[39m\u001B[38;5;241m0.3\u001B[39m,random_state\u001B[38;5;241m=\u001B[39mrandom_state)\n\u001B[0;32m     12\u001B[0m balancers \u001B[38;5;241m=\u001B[39m [TomekLinks(sampling_strategy\u001B[38;5;241m=\u001B[39m\u001B[38;5;124m'\u001B[39m\u001B[38;5;124mmajority\u001B[39m\u001B[38;5;124m'\u001B[39m), TomekLinks(sampling_strategy\u001B[38;5;241m=\u001B[39m\u001B[38;5;124m'\u001B[39m\u001B[38;5;124mnot minority\u001B[39m\u001B[38;5;124m'\u001B[39m),  RandomUnderSampler(), SMOTE(sampling_strategy\u001B[38;5;241m=\u001B[39m\u001B[38;5;124m'\u001B[39m\u001B[38;5;124mminority\u001B[39m\u001B[38;5;124m'\u001B[39m),CondensedNearestNeighbour()]\n",
      "Cell \u001B[1;32mIn[15], line 18\u001B[0m, in \u001B[0;36mload_and_clean_data\u001B[1;34m(filepath, rename_dict, vectorizer_output, **kwargs)\u001B[0m\n\u001B[0;32m     16\u001B[0m tr \u001B[38;5;241m=\u001B[39m TfidfDataTransformer()\n\u001B[0;32m     17\u001B[0m \u001B[38;5;66;03m# Stemming\u001B[39;00m\n\u001B[1;32m---> 18\u001B[0m df[\u001B[38;5;124m'\u001B[39m\u001B[38;5;124mclean_text\u001B[39m\u001B[38;5;124m'\u001B[39m] \u001B[38;5;241m=\u001B[39m \u001B[43mtr\u001B[49m\u001B[38;5;241;43m.\u001B[39;49m\u001B[43mstemming\u001B[49m\u001B[43m(\u001B[49m\u001B[43mdf\u001B[49m\u001B[43m[\u001B[49m\u001B[38;5;124;43m'\u001B[39;49m\u001B[38;5;124;43mclean_text\u001B[39;49m\u001B[38;5;124;43m'\u001B[39;49m\u001B[43m]\u001B[49m\u001B[43m)\u001B[49m\n\u001B[0;32m     20\u001B[0m tr\u001B[38;5;241m.\u001B[39mvectorizer_fit(df[\u001B[38;5;124m'\u001B[39m\u001B[38;5;124mclean_text\u001B[39m\u001B[38;5;124m'\u001B[39m])\n\u001B[0;32m     21\u001B[0m df_tfidf \u001B[38;5;241m=\u001B[39m tr\u001B[38;5;241m.\u001B[39mtransform(df[\u001B[38;5;124m'\u001B[39m\u001B[38;5;124mclean_text\u001B[39m\u001B[38;5;124m'\u001B[39m])\n",
      "File \u001B[1;32mW:\\diploma_thesis\\src\\analyzer\\data_transformation.py:41\u001B[0m, in \u001B[0;36mDataTransformer.stemming\u001B[1;34m(self, data)\u001B[0m\n\u001B[0;32m     39\u001B[0m \u001B[38;5;28;01mdef\u001B[39;00m \u001B[38;5;21mstemming\u001B[39m(\u001B[38;5;28mself\u001B[39m, data: pd\u001B[38;5;241m.\u001B[39mSeries):\n\u001B[0;32m     40\u001B[0m     tokenized \u001B[38;5;241m=\u001B[39m data\u001B[38;5;241m.\u001B[39mapply(\u001B[38;5;28;01mlambda\u001B[39;00m x: x\u001B[38;5;241m.\u001B[39msplit())\n\u001B[1;32m---> 41\u001B[0m     tokenized \u001B[38;5;241m=\u001B[39m \u001B[43mtokenized\u001B[49m\u001B[38;5;241;43m.\u001B[39;49m\u001B[43mapply\u001B[49m\u001B[43m(\u001B[49m\u001B[38;5;28;43;01mlambda\u001B[39;49;00m\u001B[43m \u001B[49m\u001B[43mx\u001B[49m\u001B[43m:\u001B[49m\u001B[43m \u001B[49m\u001B[43m[\u001B[49m\u001B[38;5;28;43mself\u001B[39;49m\u001B[38;5;241;43m.\u001B[39;49m\u001B[43mstemmer\u001B[49m\u001B[38;5;241;43m.\u001B[39;49m\u001B[43mstem\u001B[49m\u001B[43m(\u001B[49m\u001B[43mi\u001B[49m\u001B[43m)\u001B[49m\u001B[43m \u001B[49m\u001B[38;5;28;43;01mfor\u001B[39;49;00m\u001B[43m \u001B[49m\u001B[43mi\u001B[49m\u001B[43m \u001B[49m\u001B[38;5;129;43;01min\u001B[39;49;00m\u001B[43m \u001B[49m\u001B[43mx\u001B[49m\u001B[43m]\u001B[49m\u001B[43m)\u001B[49m\n\u001B[0;32m     42\u001B[0m     \u001B[38;5;28;01mfor\u001B[39;00m i \u001B[38;5;129;01min\u001B[39;00m \u001B[38;5;28mrange\u001B[39m(\u001B[38;5;28mlen\u001B[39m(tokenized)):\n\u001B[0;32m     43\u001B[0m         tokenized[i] \u001B[38;5;241m=\u001B[39m \u001B[38;5;124m'\u001B[39m\u001B[38;5;124m \u001B[39m\u001B[38;5;124m'\u001B[39m\u001B[38;5;241m.\u001B[39mjoin(tokenized[i])\n",
      "File \u001B[1;32mW:\\diploma_thesis\\venv\\lib\\site-packages\\pandas\\core\\series.py:4771\u001B[0m, in \u001B[0;36mSeries.apply\u001B[1;34m(self, func, convert_dtype, args, **kwargs)\u001B[0m\n\u001B[0;32m   4661\u001B[0m \u001B[38;5;28;01mdef\u001B[39;00m \u001B[38;5;21mapply\u001B[39m(\n\u001B[0;32m   4662\u001B[0m     \u001B[38;5;28mself\u001B[39m,\n\u001B[0;32m   4663\u001B[0m     func: AggFuncType,\n\u001B[1;32m   (...)\u001B[0m\n\u001B[0;32m   4666\u001B[0m     \u001B[38;5;241m*\u001B[39m\u001B[38;5;241m*\u001B[39mkwargs,\n\u001B[0;32m   4667\u001B[0m ) \u001B[38;5;241m-\u001B[39m\u001B[38;5;241m>\u001B[39m DataFrame \u001B[38;5;241m|\u001B[39m Series:\n\u001B[0;32m   4668\u001B[0m \u001B[38;5;250m    \u001B[39m\u001B[38;5;124;03m\"\"\"\u001B[39;00m\n\u001B[0;32m   4669\u001B[0m \u001B[38;5;124;03m    Invoke function on values of Series.\u001B[39;00m\n\u001B[0;32m   4670\u001B[0m \n\u001B[1;32m   (...)\u001B[0m\n\u001B[0;32m   4769\u001B[0m \u001B[38;5;124;03m    dtype: float64\u001B[39;00m\n\u001B[0;32m   4770\u001B[0m \u001B[38;5;124;03m    \"\"\"\u001B[39;00m\n\u001B[1;32m-> 4771\u001B[0m     \u001B[38;5;28;01mreturn\u001B[39;00m \u001B[43mSeriesApply\u001B[49m\u001B[43m(\u001B[49m\u001B[38;5;28;43mself\u001B[39;49m\u001B[43m,\u001B[49m\u001B[43m \u001B[49m\u001B[43mfunc\u001B[49m\u001B[43m,\u001B[49m\u001B[43m \u001B[49m\u001B[43mconvert_dtype\u001B[49m\u001B[43m,\u001B[49m\u001B[43m \u001B[49m\u001B[43margs\u001B[49m\u001B[43m,\u001B[49m\u001B[43m \u001B[49m\u001B[43mkwargs\u001B[49m\u001B[43m)\u001B[49m\u001B[38;5;241;43m.\u001B[39;49m\u001B[43mapply\u001B[49m\u001B[43m(\u001B[49m\u001B[43m)\u001B[49m\n",
      "File \u001B[1;32mW:\\diploma_thesis\\venv\\lib\\site-packages\\pandas\\core\\apply.py:1123\u001B[0m, in \u001B[0;36mSeriesApply.apply\u001B[1;34m(self)\u001B[0m\n\u001B[0;32m   1120\u001B[0m     \u001B[38;5;28;01mreturn\u001B[39;00m \u001B[38;5;28mself\u001B[39m\u001B[38;5;241m.\u001B[39mapply_str()\n\u001B[0;32m   1122\u001B[0m \u001B[38;5;66;03m# self.f is Callable\u001B[39;00m\n\u001B[1;32m-> 1123\u001B[0m \u001B[38;5;28;01mreturn\u001B[39;00m \u001B[38;5;28;43mself\u001B[39;49m\u001B[38;5;241;43m.\u001B[39;49m\u001B[43mapply_standard\u001B[49m\u001B[43m(\u001B[49m\u001B[43m)\u001B[49m\n",
      "File \u001B[1;32mW:\\diploma_thesis\\venv\\lib\\site-packages\\pandas\\core\\apply.py:1174\u001B[0m, in \u001B[0;36mSeriesApply.apply_standard\u001B[1;34m(self)\u001B[0m\n\u001B[0;32m   1172\u001B[0m     \u001B[38;5;28;01melse\u001B[39;00m:\n\u001B[0;32m   1173\u001B[0m         values \u001B[38;5;241m=\u001B[39m obj\u001B[38;5;241m.\u001B[39mastype(\u001B[38;5;28mobject\u001B[39m)\u001B[38;5;241m.\u001B[39m_values\n\u001B[1;32m-> 1174\u001B[0m         mapped \u001B[38;5;241m=\u001B[39m \u001B[43mlib\u001B[49m\u001B[38;5;241;43m.\u001B[39;49m\u001B[43mmap_infer\u001B[49m\u001B[43m(\u001B[49m\n\u001B[0;32m   1175\u001B[0m \u001B[43m            \u001B[49m\u001B[43mvalues\u001B[49m\u001B[43m,\u001B[49m\n\u001B[0;32m   1176\u001B[0m \u001B[43m            \u001B[49m\u001B[43mf\u001B[49m\u001B[43m,\u001B[49m\n\u001B[0;32m   1177\u001B[0m \u001B[43m            \u001B[49m\u001B[43mconvert\u001B[49m\u001B[38;5;241;43m=\u001B[39;49m\u001B[38;5;28;43mself\u001B[39;49m\u001B[38;5;241;43m.\u001B[39;49m\u001B[43mconvert_dtype\u001B[49m\u001B[43m,\u001B[49m\n\u001B[0;32m   1178\u001B[0m \u001B[43m        \u001B[49m\u001B[43m)\u001B[49m\n\u001B[0;32m   1180\u001B[0m \u001B[38;5;28;01mif\u001B[39;00m \u001B[38;5;28mlen\u001B[39m(mapped) \u001B[38;5;129;01mand\u001B[39;00m \u001B[38;5;28misinstance\u001B[39m(mapped[\u001B[38;5;241m0\u001B[39m], ABCSeries):\n\u001B[0;32m   1181\u001B[0m     \u001B[38;5;66;03m# GH#43986 Need to do list(mapped) in order to get treated as nested\u001B[39;00m\n\u001B[0;32m   1182\u001B[0m     \u001B[38;5;66;03m#  See also GH#25959 regarding EA support\u001B[39;00m\n\u001B[0;32m   1183\u001B[0m     \u001B[38;5;28;01mreturn\u001B[39;00m obj\u001B[38;5;241m.\u001B[39m_constructor_expanddim(\u001B[38;5;28mlist\u001B[39m(mapped), index\u001B[38;5;241m=\u001B[39mobj\u001B[38;5;241m.\u001B[39mindex)\n",
      "File \u001B[1;32mW:\\diploma_thesis\\venv\\lib\\site-packages\\pandas\\_libs\\lib.pyx:2924\u001B[0m, in \u001B[0;36mpandas._libs.lib.map_infer\u001B[1;34m()\u001B[0m\n",
      "File \u001B[1;32mW:\\diploma_thesis\\src\\analyzer\\data_transformation.py:41\u001B[0m, in \u001B[0;36mDataTransformer.stemming.<locals>.<lambda>\u001B[1;34m(x)\u001B[0m\n\u001B[0;32m     39\u001B[0m \u001B[38;5;28;01mdef\u001B[39;00m \u001B[38;5;21mstemming\u001B[39m(\u001B[38;5;28mself\u001B[39m, data: pd\u001B[38;5;241m.\u001B[39mSeries):\n\u001B[0;32m     40\u001B[0m     tokenized \u001B[38;5;241m=\u001B[39m data\u001B[38;5;241m.\u001B[39mapply(\u001B[38;5;28;01mlambda\u001B[39;00m x: x\u001B[38;5;241m.\u001B[39msplit())\n\u001B[1;32m---> 41\u001B[0m     tokenized \u001B[38;5;241m=\u001B[39m tokenized\u001B[38;5;241m.\u001B[39mapply(\u001B[38;5;28;01mlambda\u001B[39;00m x: [\u001B[38;5;28mself\u001B[39m\u001B[38;5;241m.\u001B[39mstemmer\u001B[38;5;241m.\u001B[39mstem(i) \u001B[38;5;28;01mfor\u001B[39;00m i \u001B[38;5;129;01min\u001B[39;00m x])\n\u001B[0;32m     42\u001B[0m     \u001B[38;5;28;01mfor\u001B[39;00m i \u001B[38;5;129;01min\u001B[39;00m \u001B[38;5;28mrange\u001B[39m(\u001B[38;5;28mlen\u001B[39m(tokenized)):\n\u001B[0;32m     43\u001B[0m         tokenized[i] \u001B[38;5;241m=\u001B[39m \u001B[38;5;124m'\u001B[39m\u001B[38;5;124m \u001B[39m\u001B[38;5;124m'\u001B[39m\u001B[38;5;241m.\u001B[39mjoin(tokenized[i])\n",
      "File \u001B[1;32mW:\\diploma_thesis\\src\\analyzer\\data_transformation.py:41\u001B[0m, in \u001B[0;36m<listcomp>\u001B[1;34m(.0)\u001B[0m\n\u001B[0;32m     39\u001B[0m \u001B[38;5;28;01mdef\u001B[39;00m \u001B[38;5;21mstemming\u001B[39m(\u001B[38;5;28mself\u001B[39m, data: pd\u001B[38;5;241m.\u001B[39mSeries):\n\u001B[0;32m     40\u001B[0m     tokenized \u001B[38;5;241m=\u001B[39m data\u001B[38;5;241m.\u001B[39mapply(\u001B[38;5;28;01mlambda\u001B[39;00m x: x\u001B[38;5;241m.\u001B[39msplit())\n\u001B[1;32m---> 41\u001B[0m     tokenized \u001B[38;5;241m=\u001B[39m tokenized\u001B[38;5;241m.\u001B[39mapply(\u001B[38;5;28;01mlambda\u001B[39;00m x: [\u001B[38;5;28;43mself\u001B[39;49m\u001B[38;5;241;43m.\u001B[39;49m\u001B[43mstemmer\u001B[49m\u001B[38;5;241;43m.\u001B[39;49m\u001B[43mstem\u001B[49m\u001B[43m(\u001B[49m\u001B[43mi\u001B[49m\u001B[43m)\u001B[49m \u001B[38;5;28;01mfor\u001B[39;00m i \u001B[38;5;129;01min\u001B[39;00m x])\n\u001B[0;32m     42\u001B[0m     \u001B[38;5;28;01mfor\u001B[39;00m i \u001B[38;5;129;01min\u001B[39;00m \u001B[38;5;28mrange\u001B[39m(\u001B[38;5;28mlen\u001B[39m(tokenized)):\n\u001B[0;32m     43\u001B[0m         tokenized[i] \u001B[38;5;241m=\u001B[39m \u001B[38;5;124m'\u001B[39m\u001B[38;5;124m \u001B[39m\u001B[38;5;124m'\u001B[39m\u001B[38;5;241m.\u001B[39mjoin(tokenized[i])\n",
      "File \u001B[1;32mW:\\diploma_thesis\\venv\\lib\\site-packages\\nltk\\stem\\porter.py:660\u001B[0m, in \u001B[0;36mPorterStemmer.stem\u001B[1;34m(self, word, to_lowercase)\u001B[0m\n\u001B[0;32m    655\u001B[0m \u001B[38;5;250m\u001B[39m\u001B[38;5;124;03m\"\"\"\u001B[39;00m\n\u001B[0;32m    656\u001B[0m \u001B[38;5;124;03m:param to_lowercase: if `to_lowercase=True` the word always lowercase\u001B[39;00m\n\u001B[0;32m    657\u001B[0m \u001B[38;5;124;03m\"\"\"\u001B[39;00m\n\u001B[0;32m    658\u001B[0m stem \u001B[38;5;241m=\u001B[39m word\u001B[38;5;241m.\u001B[39mlower() \u001B[38;5;28;01mif\u001B[39;00m to_lowercase \u001B[38;5;28;01melse\u001B[39;00m word\n\u001B[1;32m--> 660\u001B[0m \u001B[38;5;28;01mif\u001B[39;00m \u001B[38;5;28mself\u001B[39m\u001B[38;5;241m.\u001B[39mmode \u001B[38;5;241m==\u001B[39m \u001B[38;5;28mself\u001B[39m\u001B[38;5;241m.\u001B[39mNLTK_EXTENSIONS \u001B[38;5;129;01mand\u001B[39;00m \u001B[43mword\u001B[49m\u001B[43m \u001B[49m\u001B[38;5;129;43;01min\u001B[39;49;00m\u001B[43m \u001B[49m\u001B[38;5;28;43mself\u001B[39;49m\u001B[38;5;241;43m.\u001B[39;49m\u001B[43mpool\u001B[49m:\n\u001B[0;32m    661\u001B[0m     \u001B[38;5;28;01mreturn\u001B[39;00m \u001B[38;5;28mself\u001B[39m\u001B[38;5;241m.\u001B[39mpool[stem]\n\u001B[0;32m    663\u001B[0m \u001B[38;5;28;01mif\u001B[39;00m \u001B[38;5;28mself\u001B[39m\u001B[38;5;241m.\u001B[39mmode \u001B[38;5;241m!=\u001B[39m \u001B[38;5;28mself\u001B[39m\u001B[38;5;241m.\u001B[39mORIGINAL_ALGORITHM \u001B[38;5;129;01mand\u001B[39;00m \u001B[38;5;28mlen\u001B[39m(word) \u001B[38;5;241m<\u001B[39m\u001B[38;5;241m=\u001B[39m \u001B[38;5;241m2\u001B[39m:\n\u001B[0;32m    664\u001B[0m     \u001B[38;5;66;03m# With this line, strings of length 1 or 2 don't go through\u001B[39;00m\n\u001B[0;32m    665\u001B[0m     \u001B[38;5;66;03m# the stemming process, although no mention is made of this\u001B[39;00m\n\u001B[0;32m    666\u001B[0m     \u001B[38;5;66;03m# in the published algorithm.\u001B[39;00m\n",
      "\u001B[1;31mKeyboardInterrupt\u001B[0m: "
     ]
    }
   ],
   "source": [
    "model1_grid= {\n",
    "    'penalty': ['none', 'l2'],\n",
    "    'class_weight': [None, 'balanced'],\n",
    "    'n_jobs': [-1],\n",
    "    'solver': ['newton-cholesky'],\n",
    "    'max_iter': [500]\n",
    "}\n",
    "model1 = LogisticRegression\n",
    "df, df_tfidf, tr = load_and_clean_data('data/train.csv', rename_dict={'tweet':'text', 'label':'output'})\n",
    "X_train, X_valid, y_train, y_valid = train_test_split(df_tfidf, df['output'],test_size=0.3,random_state=random_state)\n",
    "\n",
    "balancers = [TomekLinks(sampling_strategy='majority'), TomekLinks(sampling_strategy='not minority'),  RandomUnderSampler(), SMOTE(sampling_strategy='minority'),CondensedNearestNeighbour()]\n",
    "results = []\n",
    "for b in balancers[:3]:\n",
    "    X_train_balanced, y_train_balanced = balance_data(X_train, y_train, b)\n",
    "    output = __model_tuning__(X_train_balanced, y_train_balanced, X_valid, y_valid, model1, model1_grid, 'lin_reg_1' ,'bal', verbose=False)\n",
    "\n",
    "    results.append(f'Balancer {str(b)} : {max(output, key=lambda x: x[\"roc_auc_score\"])}')\n",
    "\n",
    "print('========')\n"
   ],
   "metadata": {
    "collapsed": false
   }
  },
  {
   "cell_type": "code",
   "execution_count": 21,
   "outputs": [
    {
     "name": "stdout",
     "output_type": "stream",
     "text": [
      "Balancer TomekLinks(sampling_strategy='majority') : {'f1_score': 0.389544150462225, 'confusion_matrix': array([[7063, 1846],\n",
      "       [  69,  611]], dtype=int64), 'roc_auc_score': 0.9374362013297856, 'average_precision_score': 0.6739797660178359}\n",
      "Balancer TomekLinks(sampling_strategy='not minority') : {'f1_score': 0.389544150462225, 'confusion_matrix': array([[7063, 1846],\n",
      "       [  69,  611]], dtype=int64), 'roc_auc_score': 0.9374362013297856, 'average_precision_score': 0.6739797660178359}\n",
      "Balancer RandomUnderSampler() : {'f1_score': 0.24647364513734224, 'confusion_matrix': array([[4865, 4044],\n",
      "       [  16,  664]], dtype=int64), 'roc_auc_score': 0.9288538358434629, 'average_precision_score': 0.6292684522647592}\n"
     ]
    }
   ],
   "source": [
    "for r in results:\n",
    "    print(r)"
   ],
   "metadata": {
    "collapsed": false
   }
  },
  {
   "cell_type": "code",
   "execution_count": 36,
   "outputs": [
    {
     "data": {
      "text/plain": "array([[0.7871613, 0.2128387]])"
     },
     "execution_count": 36,
     "metadata": {},
     "output_type": "execute_result"
    }
   ],
   "source": [
    "\n",
    "test = 'bad bad i hate this ugly thingy libtard'\n",
    "test2 = 'i like this its beautyful, nice job'\n",
    "m = 'LogisticRegression-class_weightNonemax_iter500n_jobs-1penaltynonesolvernewton-cholesky-bal-1680028951.834127.sav'\n",
    "analyze_sentence(test2, model_file=f'models/{m}', vectorizer_file='models/vectorizer.sav')\n"
   ],
   "metadata": {
    "collapsed": false
   }
  },
  {
   "cell_type": "code",
   "execution_count": null,
   "outputs": [],
   "source": [],
   "metadata": {
    "collapsed": false
   }
  }
 ],
 "metadata": {
  "kernelspec": {
   "display_name": "Python 3",
   "language": "python",
   "name": "python3"
  },
  "language_info": {
   "codemirror_mode": {
    "name": "ipython",
    "version": 2
   },
   "file_extension": ".py",
   "mimetype": "text/x-python",
   "name": "python",
   "nbconvert_exporter": "python",
   "pygments_lexer": "ipython2",
   "version": "2.7.6"
  }
 },
 "nbformat": 4,
 "nbformat_minor": 0
}
