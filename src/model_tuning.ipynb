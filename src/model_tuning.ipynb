{
 "cells": [
  {
   "cell_type": "code",
   "execution_count": 7,
   "metadata": {
    "collapsed": true
   },
   "outputs": [],
   "source": [
    "import pickle\n",
    "import os\n",
    "\n",
    "from re import subn\n",
    "import pandas as pd\n",
    "import numpy as np\n",
    "from datetime import datetime\n",
    "\n",
    "from sklearn.model_selection import train_test_split, ParameterGrid\n",
    "from sklearn.metrics import f1_score, confusion_matrix, ConfusionMatrixDisplay\n",
    "import matplotlib.pyplot as plt\n",
    "\n",
    "from analyzer import data_cleaner\n",
    "from analyzer.data_transformation import TfidfDataTransformer, BagOfWordsTransformer, DataTransformer\n",
    "\n",
    "from imblearn.under_sampling import TomekLinks,RandomUnderSampler, CondensedNearestNeighbour,EditedNearestNeighbours\n",
    "\n",
    "from sklearn.linear_model import LogisticRegression\n",
    "from sklearn.naive_bayes import BernoulliNB, ComplementNB\n",
    "from sklearn.neural_network import MLPClassifier\n",
    "\n"
   ]
  },
  {
   "cell_type": "code",
   "execution_count": 8,
   "outputs": [],
   "source": [
    "# Run this cell if you want to ignore warnings\n",
    "import warnings\n",
    "from sklearn.exceptions import ConvergenceWarning\n",
    "warnings.filterwarnings('ignore')\n",
    "warnings.simplefilter('ignore', category=ConvergenceWarning)\n"
   ],
   "metadata": {
    "collapsed": false
   }
  },
  {
   "cell_type": "code",
   "execution_count": 9,
   "outputs": [],
   "source": [
    "def load_and_clean_data(filepath, rename_dict=None, vectorizer_output='models/vectorizer.sav', **kwargs) -> (pd.DataFrame, DataTransformer):\n",
    "    # Load data\n",
    "    df = pd.read_csv(filepath, **kwargs)\n",
    "\n",
    "    if rename_dict is not None:\n",
    "        df.rename(columns=rename_dict, inplace=True)\n",
    "    #display(df.head(5))\n",
    "    # Clean data\n",
    "        # Remove @ mentions\n",
    "    df['clean_text'] = np.vectorize(data_cleaner.clean_mentions)(df['text'])\n",
    "        # Remove non alfabet chars\n",
    "    df['clean_text'] = df['clean_text'].str.replace(\"[^a-zA-Z#]\", \" \")\n",
    "        # Remove short words\n",
    "    df['clean_text'] = df['clean_text'].apply(lambda x: ' '.join([w for w in x.split() if len(w)>2]))\n",
    "    # Transform\n",
    "    tr = TfidfDataTransformer()\n",
    "    # Stemming\n",
    "    df['clean_text'] = tr.stemming(df['clean_text'])\n",
    "\n",
    "    tr.vectorizer_fit(df['clean_text'])\n",
    "    df_tfidf = tr.transform(df['clean_text'])\n",
    "    pickle.dump(tr.vectorizer, open(vectorizer_output, 'wb'))\n",
    "\n",
    "\n",
    "    return df, df_tfidf, tr\n",
    "\n",
    "def balance_data(X, y, balancer = RandomUnderSampler(sampling_strategy='not minority',random_state=1337)) -> pd.DataFrame:\n",
    "    X_balanced, y_balanced = balancer.fit_resample(X, y)\n",
    "    return X_balanced, y_balanced\n",
    "\n",
    "\n",
    "\n",
    "def fit_model(X, y, model_type, params, model_output='../models/model.sav', ):\n",
    "    model = model_type(**params)\n",
    "    model.fit(X,y)\n",
    "    if model_output is not None:\n",
    "        pickle.dump(model, open(model_output, 'wb'))\n",
    "    return model\n",
    "\n",
    "proba_models = set(['LogisticRegression', 'BernoulliNB', 'MLPClassifier', 'ComplementNB'])\n",
    "def predict(model, data):\n",
    "    model_name = type(model).__name__\n",
    "    if model_name in proba_models:\n",
    "        predictions = model.predict_proba(data)\n",
    "    else:\n",
    "        predictions = model.predict(data)\n",
    "    return predictions\n",
    "\n",
    "def metrics(predictions, true_values, name_prefix=\"\", plot=True):\n",
    "    predictions_int =  predictions[:,1]>=0.3\n",
    "    # Calculate metrics\n",
    "    metrics = {\n",
    "        'f1_score': f1_score(true_values, predictions_int),\n",
    "        'confusion_matrix': confusion_matrix(true_values, predictions_int)\n",
    "    }\n",
    "    # Plot?? mby\n",
    "    if plot:\n",
    "        ConfusionMatrixDisplay.from_predictions(true_values, predictions_int)\n",
    "        plt.show()\n",
    "    # Write to outputfile.\n",
    "    with open(f'out/results/{name_prefix}_out.out', 'w') as f:\n",
    "            f.write(str(metrics))\n",
    "    return metrics"
   ],
   "metadata": {
    "collapsed": false
   }
  },
  {
   "cell_type": "code",
   "execution_count": 10,
   "outputs": [],
   "source": [
    "def clean_folders():\n",
    "    for folder, end in [('models', '.sav'), ('out/results', '.out')]:\n",
    "        filelist = [ f for f in os.listdir(folder) if f.endswith(end) ]\n",
    "        for f in filelist:\n",
    "            os.remove(os.path.join(folder, f))"
   ],
   "metadata": {
    "collapsed": false
   }
  },
  {
   "cell_type": "code",
   "execution_count": 11,
   "outputs": [],
   "source": [
    "def __model_tuning__(X_train, y_train, X_valid, y_valid, model_type,params, output_file, data_label=\"\", verbose=False, plot=False):\n",
    "    output_name = f'{model_type.__name__}-$-{data_label}-{datetime.now().timestamp()}'\n",
    "    model_output = f'models/{output_name}.sav'\n",
    "    outputs = []\n",
    "    if verbose:\n",
    "        print(f'Starting tuning of {model_type.__name__} with data labeled: {data_label}')\n",
    "        print('===============')\n",
    "    parameter_grid = ParameterGrid(params)\n",
    "    for i, p in enumerate(parameter_grid):\n",
    "        param_string = subn(\"[{}',:]\",\"\",\"\".join(str(p).split()))[0]\n",
    "        if verbose:\n",
    "            print(f'Params {i+1}/{len(parameter_grid)}: {p}')\n",
    "        model_output = model_output.replace('$',param_string)\n",
    "        model = fit_model(X_train, y_train, model_type, params=p, model_output=model_output)\n",
    "        predictions = predict(model, X_valid)\n",
    "        output = metrics(predictions, y_valid, output_name.replace('$',param_string),plot=plot)\n",
    "        outputs.append(output)\n",
    "        if verbose:\n",
    "            print(f'Output: {output}')\n",
    "    if verbose:\n",
    "        print(f'Tuning ended')\n",
    "        print('===============')\n",
    "    return outputs\n"
   ],
   "metadata": {
    "collapsed": false
   }
  },
  {
   "cell_type": "markdown",
   "source": [],
   "metadata": {
    "collapsed": false
   }
  },
  {
   "cell_type": "code",
   "execution_count": 15,
   "outputs": [],
   "source": [
    "clean_folders()"
   ],
   "metadata": {
    "collapsed": false
   }
  },
  {
   "cell_type": "code",
   "execution_count": 6,
   "outputs": [
    {
     "name": "stdout",
     "output_type": "stream",
     "text": [
      "=====================\n",
      "==LogisticRegression==\n",
      "=====================\n",
      "Starting tuning of LogisticRegression with data labeled: bal\n",
      "===============\n",
      "Params 1/4: {'class_weight': None, 'n_jobs': -1, 'penalty': 'none', 'solver': 'newton-cholesky'}\n"
     ]
    },
    {
     "name": "stderr",
     "output_type": "stream",
     "text": [
      "/Users/tomas.valenta/School/diploma_thesis/venv/lib/python3.10/site-packages/sklearn/linear_model/_glm/_newton_solver.py:491: LinAlgWarning: The inner solver of NewtonCholeskySolver stumbled upon a singular or very ill-conditioned Hessian matrix at iteration #1. It will now resort to lbfgs instead.\n",
      "Further options are to use another solver or to avoid such situation in the first place. Possible remedies are removing collinear features of X or increasing the penalization strengths.\n",
      "The original Linear Algebra message was:\n",
      "Matrix is singular.\n",
      "  warnings.warn(\n"
     ]
    },
    {
     "name": "stdout",
     "output_type": "stream",
     "text": [
      "Output: {'f1_score': 0.332634102487264, 'confusion_matrix': array([[6807, 2102],\n",
      "       [ 125,  555]])}\n",
      "Params 2/4: {'class_weight': None, 'n_jobs': -1, 'penalty': 'l2', 'solver': 'newton-cholesky'}\n",
      "Output: {'f1_score': 0.25910612325260873, 'confusion_matrix': array([[5168, 3741],\n",
      "       [  22,  658]])}\n",
      "Params 3/4: {'class_weight': 'balanced', 'n_jobs': -1, 'penalty': 'none', 'solver': 'newton-cholesky'}\n"
     ]
    },
    {
     "name": "stderr",
     "output_type": "stream",
     "text": [
      "/Users/tomas.valenta/School/diploma_thesis/venv/lib/python3.10/site-packages/sklearn/linear_model/_glm/_newton_solver.py:491: LinAlgWarning: The inner solver of NewtonCholeskySolver stumbled upon a singular or very ill-conditioned Hessian matrix at iteration #1. It will now resort to lbfgs instead.\n",
      "Further options are to use another solver or to avoid such situation in the first place. Possible remedies are removing collinear features of X or increasing the penalization strengths.\n",
      "The original Linear Algebra message was:\n",
      "Matrix is singular.\n",
      "  warnings.warn(\n"
     ]
    },
    {
     "name": "stdout",
     "output_type": "stream",
     "text": [
      "Output: {'f1_score': 0.332634102487264, 'confusion_matrix': array([[6807, 2102],\n",
      "       [ 125,  555]])}\n",
      "Params 4/4: {'class_weight': 'balanced', 'n_jobs': -1, 'penalty': 'l2', 'solver': 'newton-cholesky'}\n",
      "Output: {'f1_score': 0.25910612325260873, 'confusion_matrix': array([[5168, 3741],\n",
      "       [  22,  658]])}\n",
      "Tuning ended\n",
      "===============\n",
      "Starting tuning of LogisticRegression with data labeled: unba\n",
      "===============\n",
      "Params 1/4: {'class_weight': None, 'n_jobs': -1, 'penalty': 'none', 'solver': 'newton-cholesky'}\n"
     ]
    },
    {
     "name": "stderr",
     "output_type": "stream",
     "text": [
      "/Users/tomas.valenta/School/diploma_thesis/venv/lib/python3.10/site-packages/sklearn/linear_model/_glm/_newton_solver.py:491: LinAlgWarning: The inner solver of NewtonCholeskySolver stumbled upon a singular or very ill-conditioned Hessian matrix at iteration #1. It will now resort to lbfgs instead.\n",
      "Further options are to use another solver or to avoid such situation in the first place. Possible remedies are removing collinear features of X or increasing the penalization strengths.\n",
      "The original Linear Algebra message was:\n",
      "Ill-conditioned matrix (rcond=6.65053e-20): result may not be accurate.\n",
      "  warnings.warn(\n"
     ]
    },
    {
     "name": "stdout",
     "output_type": "stream",
     "text": [
      "Output: {'f1_score': 0.5458452722063036, 'confusion_matrix': array([[8574,  335],\n",
      "       [ 299,  381]])}\n",
      "Params 2/4: {'class_weight': None, 'n_jobs': -1, 'penalty': 'l2', 'solver': 'newton-cholesky'}\n",
      "Output: {'f1_score': 0.5508771929824561, 'confusion_matrix': array([[8763,  146],\n",
      "       [ 366,  314]])}\n",
      "Params 3/4: {'class_weight': 'balanced', 'n_jobs': -1, 'penalty': 'none', 'solver': 'newton-cholesky'}\n"
     ]
    },
    {
     "name": "stderr",
     "output_type": "stream",
     "text": [
      "/Users/tomas.valenta/School/diploma_thesis/venv/lib/python3.10/site-packages/sklearn/linear_model/_glm/_newton_solver.py:491: LinAlgWarning: The inner solver of NewtonCholeskySolver stumbled upon a singular or very ill-conditioned Hessian matrix at iteration #1. It will now resort to lbfgs instead.\n",
      "Further options are to use another solver or to avoid such situation in the first place. Possible remedies are removing collinear features of X or increasing the penalization strengths.\n",
      "The original Linear Algebra message was:\n",
      "Ill-conditioned matrix (rcond=3.88827e-20): result may not be accurate.\n",
      "  warnings.warn(\n"
     ]
    },
    {
     "name": "stdout",
     "output_type": "stream",
     "text": [
      "Output: {'f1_score': 0.4018725243068059, 'confusion_matrix': array([[7370, 1539],\n",
      "       [ 122,  558]])}\n",
      "Params 4/4: {'class_weight': 'balanced', 'n_jobs': -1, 'penalty': 'l2', 'solver': 'newton-cholesky'}\n",
      "Output: {'f1_score': 0.3525385054192812, 'confusion_matrix': array([[6701, 2208],\n",
      "       [  62,  618]])}\n",
      "Tuning ended\n",
      "===============\n",
      "=====================\n",
      "==BernoulliNB==\n",
      "=====================\n",
      "Starting tuning of BernoulliNB with data labeled: bal\n",
      "===============\n",
      "Params 1/10: {'alpha': 0.0, 'binarize': None, 'fit_prior': True}\n",
      "Output: {'f1_score': 0.3077694235588973, 'confusion_matrix': array([[6213, 2696],\n",
      "       [  66,  614]])}\n",
      "Params 2/10: {'alpha': 0.0, 'binarize': None, 'fit_prior': False}\n",
      "Output: {'f1_score': 0.3077694235588973, 'confusion_matrix': array([[6213, 2696],\n",
      "       [  66,  614]])}\n",
      "Params 3/10: {'alpha': 0.2, 'binarize': None, 'fit_prior': True}\n",
      "Output: {'f1_score': 0.29276018099547507, 'confusion_matrix': array([[5816, 3093],\n",
      "       [  33,  647]])}\n",
      "Params 4/10: {'alpha': 0.2, 'binarize': None, 'fit_prior': False}\n",
      "Output: {'f1_score': 0.29276018099547507, 'confusion_matrix': array([[5816, 3093],\n",
      "       [  33,  647]])}\n",
      "Params 5/10: {'alpha': 0.4, 'binarize': None, 'fit_prior': True}\n",
      "Output: {'f1_score': 0.28051391862955033, 'confusion_matrix': array([[5574, 3335],\n",
      "       [  25,  655]])}\n",
      "Params 6/10: {'alpha': 0.4, 'binarize': None, 'fit_prior': False}\n",
      "Output: {'f1_score': 0.28051391862955033, 'confusion_matrix': array([[5574, 3335],\n",
      "       [  25,  655]])}\n",
      "Params 7/10: {'alpha': 0.6000000000000001, 'binarize': None, 'fit_prior': True}\n",
      "Output: {'f1_score': 0.2685469037400368, 'confusion_matrix': array([[5353, 3556],\n",
      "       [  23,  657]])}\n",
      "Params 8/10: {'alpha': 0.6000000000000001, 'binarize': None, 'fit_prior': False}\n",
      "Output: {'f1_score': 0.2685469037400368, 'confusion_matrix': array([[5353, 3556],\n",
      "       [  23,  657]])}\n",
      "Params 9/10: {'alpha': 0.8, 'binarize': None, 'fit_prior': True}\n",
      "Output: {'f1_score': 0.25757279656048465, 'confusion_matrix': array([[5131, 3778],\n",
      "       [  21,  659]])}\n",
      "Params 10/10: {'alpha': 0.8, 'binarize': None, 'fit_prior': False}\n",
      "Output: {'f1_score': 0.25757279656048465, 'confusion_matrix': array([[5131, 3778],\n",
      "       [  21,  659]])}\n",
      "Tuning ended\n",
      "===============\n",
      "Starting tuning of BernoulliNB with data labeled: unba\n",
      "===============\n",
      "Params 1/10: {'alpha': 0.0, 'binarize': None, 'fit_prior': True}\n",
      "Output: {'f1_score': 0.5154061624649859, 'confusion_matrix': array([[8794,  115],\n",
      "       [ 404,  276]])}\n",
      "Params 2/10: {'alpha': 0.0, 'binarize': None, 'fit_prior': False}\n",
      "Output: {'f1_score': 0.32467184570050894, 'confusion_matrix': array([[6462, 2447],\n",
      "       [  74,  606]])}\n",
      "Params 3/10: {'alpha': 0.2, 'binarize': None, 'fit_prior': True}\n",
      "Output: {'f1_score': 0.5084112149532709, 'confusion_matrix': array([[8791,  118],\n",
      "       [ 408,  272]])}\n",
      "Params 4/10: {'alpha': 0.2, 'binarize': None, 'fit_prior': False}\n",
      "Output: {'f1_score': 0.3041825095057034, 'confusion_matrix': array([[6021, 2888],\n",
      "       [  40,  640]])}\n",
      "Params 5/10: {'alpha': 0.4, 'binarize': None, 'fit_prior': True}\n",
      "Output: {'f1_score': 0.5056390977443609, 'confusion_matrix': array([[8794,  115],\n",
      "       [ 411,  269]])}\n",
      "Params 6/10: {'alpha': 0.4, 'binarize': None, 'fit_prior': False}\n",
      "Output: {'f1_score': 0.28980322003577813, 'confusion_matrix': array([[5765, 3144],\n",
      "       [  32,  648]])}\n",
      "Params 7/10: {'alpha': 0.6000000000000001, 'binarize': None, 'fit_prior': True}\n",
      "Output: {'f1_score': 0.49621212121212116, 'confusion_matrix': array([[8795,  114],\n",
      "       [ 418,  262]])}\n",
      "Params 8/10: {'alpha': 0.6000000000000001, 'binarize': None, 'fit_prior': False}\n",
      "Output: {'f1_score': 0.27893048128342246, 'confusion_matrix': array([[5566, 3343],\n",
      "       [  28,  652]])}\n",
      "Params 9/10: {'alpha': 0.8, 'binarize': None, 'fit_prior': True}\n",
      "Output: {'f1_score': 0.48808388941849384, 'confusion_matrix': array([[8796,  113],\n",
      "       [ 424,  256]])}\n",
      "Params 10/10: {'alpha': 0.8, 'binarize': None, 'fit_prior': False}\n",
      "Output: {'f1_score': 0.2714404662781016, 'confusion_matrix': array([[5437, 3472],\n",
      "       [  28,  652]])}\n",
      "Tuning ended\n",
      "===============\n"
     ]
    }
   ],
   "source": [
    "models = [\n",
    "    (LogisticRegression, {\n",
    "        'penalty': ['none', 'l2'],\n",
    "        'class_weight': [None,'balanced'],\n",
    "        'n_jobs': [-1],\n",
    "        'solver': ['newton-cholesky']\n",
    "    }),\n",
    "    (BernoulliNB, {\n",
    "        'alpha' : np.arange(0.0, 1.0, 0.2),\n",
    "        'fit_prior': [True, False],\n",
    "        'binarize': [None]\n",
    "\n",
    "    }),\n",
    "    (MLPClassifier, {\n",
    "        'hidden_layer_sizes': [(100,), (100, 100), (50, 50, 50), (50,)],\n",
    "        'activation': ['identity', 'logistic'],\n",
    "        'alpha': [0.0001, 0.001]\n",
    "    }),\n",
    "    (ComplementNB,{\n",
    "        'alpha' : np.arange(0.0, 1.0, 0.2),\n",
    "        'fit_prior': [True, False],\n",
    "        'norm': [True, False],\n",
    "    })\n",
    "\n",
    "\n",
    "]\n",
    "\n",
    "verbose = True\n",
    "random_state = 1337\n",
    "for model, param_grid in models[:2]:\n",
    "    if verbose:\n",
    "        print('=====================')\n",
    "        print(f'=={model.__name__}==')\n",
    "        print('=====================')\n",
    "\n",
    "    df, df_tfidf, tr = load_and_clean_data('data/train.csv', rename_dict={'tweet':'text', 'label':'output'})\n",
    "    X_train, X_valid, y_train, y_valid = train_test_split(df_tfidf, df['output'],test_size=0.3,random_state=random_state)\n",
    "    X_train_balanced, y_train_balanced = balance_data(X_train, y_train)\n",
    "\n",
    "    output = __model_tuning__(X_train_balanced, y_train_balanced, X_valid, y_valid, model, param_grid, 'lin_reg_1' ,'bal', verbose=verbose)\n",
    "    output2 = __model_tuning__(X_train, y_train, X_valid, y_valid, model, param_grid, 'lin_reg_1' ,'unba', verbose=verbose)\n"
   ],
   "metadata": {
    "collapsed": false
   }
  },
  {
   "cell_type": "code",
   "execution_count": 19,
   "outputs": [],
   "source": [
    "# Balancer test"
   ],
   "metadata": {
    "collapsed": false
   }
  },
  {
   "cell_type": "code",
   "execution_count": 14,
   "outputs": [
    {
     "name": "stdout",
     "output_type": "stream",
     "text": [
      "Starting tuning of LogisticRegression with data labeled: bal\n",
      "===============\n"
     ]
    },
    {
     "ename": "TypeError",
     "evalue": "Parameter grid for parameter 'class_weight' needs to be a list or a numpy array, but got None (of type NoneType) instead. Single values need to be wrapped in a list with one element.",
     "output_type": "error",
     "traceback": [
      "\u001B[0;31m---------------------------------------------------------------------------\u001B[0m",
      "\u001B[0;31mTypeError\u001B[0m                                 Traceback (most recent call last)",
      "Cell \u001B[0;32mIn[14], line 16\u001B[0m\n\u001B[1;32m     14\u001B[0m \u001B[38;5;28;01mfor\u001B[39;00m b \u001B[38;5;129;01min\u001B[39;00m balancers:\n\u001B[1;32m     15\u001B[0m     X_train_balanced, y_train_balanced \u001B[38;5;241m=\u001B[39m balance_data(X_train, y_train, b)\n\u001B[0;32m---> 16\u001B[0m     output \u001B[38;5;241m=\u001B[39m \u001B[43m__model_tuning__\u001B[49m\u001B[43m(\u001B[49m\u001B[43mX_train_balanced\u001B[49m\u001B[43m,\u001B[49m\u001B[43m \u001B[49m\u001B[43my_train_balanced\u001B[49m\u001B[43m,\u001B[49m\u001B[43m \u001B[49m\u001B[43mX_valid\u001B[49m\u001B[43m,\u001B[49m\u001B[43m \u001B[49m\u001B[43my_valid\u001B[49m\u001B[43m,\u001B[49m\u001B[43m \u001B[49m\u001B[43mmodel1\u001B[49m\u001B[43m,\u001B[49m\u001B[43m \u001B[49m\u001B[43mmodel1_grid\u001B[49m\u001B[43m,\u001B[49m\u001B[43m \u001B[49m\u001B[38;5;124;43m'\u001B[39;49m\u001B[38;5;124;43mlin_reg_1\u001B[39;49m\u001B[38;5;124;43m'\u001B[39;49m\u001B[43m \u001B[49m\u001B[43m,\u001B[49m\u001B[38;5;124;43m'\u001B[39;49m\u001B[38;5;124;43mbal\u001B[39;49m\u001B[38;5;124;43m'\u001B[39;49m\u001B[43m,\u001B[49m\u001B[43m \u001B[49m\u001B[43mverbose\u001B[49m\u001B[38;5;241;43m=\u001B[39;49m\u001B[43mverbose\u001B[49m\u001B[43m)\u001B[49m\n",
      "Cell \u001B[0;32mIn[11], line 8\u001B[0m, in \u001B[0;36m__model_tuning__\u001B[0;34m(X_train, y_train, X_valid, y_valid, model_type, params, output_file, data_label, verbose, plot)\u001B[0m\n\u001B[1;32m      6\u001B[0m     \u001B[38;5;28mprint\u001B[39m(\u001B[38;5;124mf\u001B[39m\u001B[38;5;124m'\u001B[39m\u001B[38;5;124mStarting tuning of \u001B[39m\u001B[38;5;132;01m{\u001B[39;00mmodel_type\u001B[38;5;241m.\u001B[39m\u001B[38;5;18m__name__\u001B[39m\u001B[38;5;132;01m}\u001B[39;00m\u001B[38;5;124m with data labeled: \u001B[39m\u001B[38;5;132;01m{\u001B[39;00mdata_label\u001B[38;5;132;01m}\u001B[39;00m\u001B[38;5;124m'\u001B[39m)\n\u001B[1;32m      7\u001B[0m     \u001B[38;5;28mprint\u001B[39m(\u001B[38;5;124m'\u001B[39m\u001B[38;5;124m===============\u001B[39m\u001B[38;5;124m'\u001B[39m)\n\u001B[0;32m----> 8\u001B[0m parameter_grid \u001B[38;5;241m=\u001B[39m \u001B[43mParameterGrid\u001B[49m\u001B[43m(\u001B[49m\u001B[43mparams\u001B[49m\u001B[43m)\u001B[49m\n\u001B[1;32m      9\u001B[0m \u001B[38;5;28;01mfor\u001B[39;00m i, p \u001B[38;5;129;01min\u001B[39;00m \u001B[38;5;28menumerate\u001B[39m(parameter_grid):\n\u001B[1;32m     10\u001B[0m     param_string \u001B[38;5;241m=\u001B[39m subn(\u001B[38;5;124m\"\u001B[39m\u001B[38;5;124m[\u001B[39m\u001B[38;5;132;01m{}\u001B[39;00m\u001B[38;5;124m'\u001B[39m\u001B[38;5;124m,:]\u001B[39m\u001B[38;5;124m\"\u001B[39m,\u001B[38;5;124m\"\u001B[39m\u001B[38;5;124m\"\u001B[39m,\u001B[38;5;124m\"\u001B[39m\u001B[38;5;124m\"\u001B[39m\u001B[38;5;241m.\u001B[39mjoin(\u001B[38;5;28mstr\u001B[39m(p)\u001B[38;5;241m.\u001B[39msplit()))[\u001B[38;5;241m0\u001B[39m]\n",
      "File \u001B[0;32m~/School/diploma_thesis/venv/lib/python3.10/site-packages/sklearn/model_selection/_search.py:117\u001B[0m, in \u001B[0;36mParameterGrid.__init__\u001B[0;34m(self, param_grid)\u001B[0m\n\u001B[1;32m    110\u001B[0m     \u001B[38;5;28;01mraise\u001B[39;00m \u001B[38;5;167;01mValueError\u001B[39;00m(\n\u001B[1;32m    111\u001B[0m         \u001B[38;5;124mf\u001B[39m\u001B[38;5;124m\"\u001B[39m\u001B[38;5;124mParameter array for \u001B[39m\u001B[38;5;132;01m{\u001B[39;00mkey\u001B[38;5;132;01m!r}\u001B[39;00m\u001B[38;5;124m should be one-dimensional, got:\u001B[39m\u001B[38;5;124m\"\u001B[39m\n\u001B[1;32m    112\u001B[0m         \u001B[38;5;124mf\u001B[39m\u001B[38;5;124m\"\u001B[39m\u001B[38;5;124m \u001B[39m\u001B[38;5;132;01m{\u001B[39;00mvalue\u001B[38;5;132;01m!r}\u001B[39;00m\u001B[38;5;124m with shape \u001B[39m\u001B[38;5;132;01m{\u001B[39;00mvalue\u001B[38;5;241m.\u001B[39mshape\u001B[38;5;132;01m}\u001B[39;00m\u001B[38;5;124m\"\u001B[39m\n\u001B[1;32m    113\u001B[0m     )\n\u001B[1;32m    114\u001B[0m \u001B[38;5;28;01mif\u001B[39;00m \u001B[38;5;28misinstance\u001B[39m(value, \u001B[38;5;28mstr\u001B[39m) \u001B[38;5;129;01mor\u001B[39;00m \u001B[38;5;129;01mnot\u001B[39;00m \u001B[38;5;28misinstance\u001B[39m(\n\u001B[1;32m    115\u001B[0m     value, (np\u001B[38;5;241m.\u001B[39mndarray, Sequence)\n\u001B[1;32m    116\u001B[0m ):\n\u001B[0;32m--> 117\u001B[0m     \u001B[38;5;28;01mraise\u001B[39;00m \u001B[38;5;167;01mTypeError\u001B[39;00m(\n\u001B[1;32m    118\u001B[0m         \u001B[38;5;124mf\u001B[39m\u001B[38;5;124m\"\u001B[39m\u001B[38;5;124mParameter grid for parameter \u001B[39m\u001B[38;5;132;01m{\u001B[39;00mkey\u001B[38;5;132;01m!r}\u001B[39;00m\u001B[38;5;124m needs to be a list or a\u001B[39m\u001B[38;5;124m\"\u001B[39m\n\u001B[1;32m    119\u001B[0m         \u001B[38;5;124mf\u001B[39m\u001B[38;5;124m\"\u001B[39m\u001B[38;5;124m numpy array, but got \u001B[39m\u001B[38;5;132;01m{\u001B[39;00mvalue\u001B[38;5;132;01m!r}\u001B[39;00m\u001B[38;5;124m (of type \u001B[39m\u001B[38;5;124m\"\u001B[39m\n\u001B[1;32m    120\u001B[0m         \u001B[38;5;124mf\u001B[39m\u001B[38;5;124m\"\u001B[39m\u001B[38;5;132;01m{\u001B[39;00m\u001B[38;5;28mtype\u001B[39m(value)\u001B[38;5;241m.\u001B[39m\u001B[38;5;18m__name__\u001B[39m\u001B[38;5;132;01m}\u001B[39;00m\u001B[38;5;124m) instead. Single values \u001B[39m\u001B[38;5;124m\"\u001B[39m\n\u001B[1;32m    121\u001B[0m         \u001B[38;5;124m\"\u001B[39m\u001B[38;5;124mneed to be wrapped in a list with one element.\u001B[39m\u001B[38;5;124m\"\u001B[39m\n\u001B[1;32m    122\u001B[0m     )\n\u001B[1;32m    123\u001B[0m \u001B[38;5;28;01mif\u001B[39;00m \u001B[38;5;28mlen\u001B[39m(value) \u001B[38;5;241m==\u001B[39m \u001B[38;5;241m0\u001B[39m:\n\u001B[1;32m    124\u001B[0m     \u001B[38;5;28;01mraise\u001B[39;00m \u001B[38;5;167;01mValueError\u001B[39;00m(\n\u001B[1;32m    125\u001B[0m         \u001B[38;5;124mf\u001B[39m\u001B[38;5;124m\"\u001B[39m\u001B[38;5;124mParameter grid for parameter \u001B[39m\u001B[38;5;132;01m{\u001B[39;00mkey\u001B[38;5;132;01m!r}\u001B[39;00m\u001B[38;5;124m need \u001B[39m\u001B[38;5;124m\"\u001B[39m\n\u001B[1;32m    126\u001B[0m         \u001B[38;5;124mf\u001B[39m\u001B[38;5;124m\"\u001B[39m\u001B[38;5;124mto be a non-empty sequence, got: \u001B[39m\u001B[38;5;132;01m{\u001B[39;00mvalue\u001B[38;5;132;01m!r}\u001B[39;00m\u001B[38;5;124m\"\u001B[39m\n\u001B[1;32m    127\u001B[0m     )\n",
      "\u001B[0;31mTypeError\u001B[0m: Parameter grid for parameter 'class_weight' needs to be a list or a numpy array, but got None (of type NoneType) instead. Single values need to be wrapped in a list with one element."
     ]
    }
   ],
   "source": [
    "model1_grid= ParameterGrid({\n",
    "    'penalty': ['none', 'l2'],\n",
    "    'class_weight': [None,'balanced'],\n",
    "    'n_jobs': [-1],\n",
    "    'solver': ['newton-cholesky']\n",
    "})\n",
    "model1= LogisticRegression\n",
    "df, df_tfidf, tr = load_and_clean_data('data/train.csv', rename_dict={'tweet':'text', 'label':'output'})\n",
    "X_train, X_valid, y_train, y_valid = train_test_split(df_tfidf, df['output'],test_size=0.3,random_state=random_state)\n",
    "\n",
    "balancers = [TomekLinks(sampling_strategy='majority')]\n",
    "\n",
    "\n",
    "for b in balancers:\n",
    "    X_train_balanced, y_train_balanced = balance_data(X_train, y_train, b)\n",
    "    output = __model_tuning__(X_train_balanced, y_train_balanced, X_valid, y_valid, model1, model1_grid, 'lin_reg_1' ,'bal', verbose=verbose)\n"
   ],
   "metadata": {
    "collapsed": false
   }
  },
  {
   "cell_type": "code",
   "execution_count": null,
   "outputs": [],
   "source": [],
   "metadata": {
    "collapsed": false
   }
  }
 ],
 "metadata": {
  "kernelspec": {
   "display_name": "Python 3",
   "language": "python",
   "name": "python3"
  },
  "language_info": {
   "codemirror_mode": {
    "name": "ipython",
    "version": 2
   },
   "file_extension": ".py",
   "mimetype": "text/x-python",
   "name": "python",
   "nbconvert_exporter": "python",
   "pygments_lexer": "ipython2",
   "version": "2.7.6"
  }
 },
 "nbformat": 4,
 "nbformat_minor": 0
}
