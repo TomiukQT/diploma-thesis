{
 "cells": [
  {
   "cell_type": "code",
   "execution_count": null,
   "metadata": {
    "collapsed": true
   },
   "outputs": [],
   "source": [
    "# Imports\n",
    "import pickle\n",
    "\n",
    "\n",
    "import pandas as pd\n",
    "import numpy as np\n",
    "\n",
    "from sklearn.model_selection import train_test_split\n",
    "\n",
    "from analyzer import data_cleaner\n",
    "from analyzer.data_transformation import TfidfDataTransformer, BagOfWordsTransformer, DataTransformer\n",
    "\n"
   ]
  },
  {
   "cell_type": "code",
   "execution_count": null,
   "outputs": [],
   "source": [
    "#Load data\n",
    "\n",
    "def load_and_clean_data(filepath, **kwargs) -> (pd.DataFrame, DataTransformer):\n",
    "    # Load data\n",
    "    df = pd.read_csv(filepath, **kwargs)\n",
    "    # Clean data\n",
    "\n",
    "    # Transform\n",
    "    tr = TfidfDataTransformer()\n",
    "\n",
    "\n",
    "    return df, tr\n",
    "\n",
    "def balance_data(data: pd.DataFrame) -> pd.DataFrame:\n",
    "    df = data.copy()\n",
    "\n",
    "    return df"
   ],
   "metadata": {
    "collapsed": false
   }
  }
 ],
 "metadata": {
  "kernelspec": {
   "display_name": "Python 3",
   "language": "python",
   "name": "python3"
  },
  "language_info": {
   "codemirror_mode": {
    "name": "ipython",
    "version": 2
   },
   "file_extension": ".py",
   "mimetype": "text/x-python",
   "name": "python",
   "nbconvert_exporter": "python",
   "pygments_lexer": "ipython2",
   "version": "2.7.6"
  }
 },
 "nbformat": 4,
 "nbformat_minor": 0
}
